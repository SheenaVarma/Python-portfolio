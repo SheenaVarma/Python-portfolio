{
 "cells": [
  {
   "cell_type": "markdown",
   "id": "3e0ef249",
   "metadata": {},
   "source": [
    "# Coding Etiquette & Excel Reporting"
   ]
  },
  {
   "cell_type": "markdown",
   "id": "4274ea05",
   "metadata": {},
   "source": [
    "## Part 1"
   ]
  },
  {
   "cell_type": "markdown",
   "id": "0dfdb322",
   "metadata": {},
   "source": [
    "#### 1. Import the data set you exported in Exercise 4.9 into a new Jupyter notebook. This should be the merged version of your data that contains the new customers column.\n",
    "#### 2. Consider any security implications that might exist for this new data. You’ll need to address any PII data in the data before continuing your analysis.\n",
    "#### 3. The Instacart officers are interested in comparing customer behavior in different geographic areas. Create a regional segmentation of the data. You’ll need to create a “Region” column based on the “State” column from your customers data set.\n",
    "- Use the region information in this Wikipedia article to create your column (you only need to create regions, not divisions).\n",
    "- Determine whether there’s a difference in spending habits between the different U.S. regions. (Hint: You can do this by crossing the variable you just created with the spending flag.)\n",
    "\n",
    "#### 4. The Instacart CFO isn’t interested in customers who don’t generate much revenue for the app. Create an exclusion flag for low-activity customers (customers with less than 5 orders) and exclude them from the data. Make sure you export this sample.\n",
    "#### 5. The marketing and business strategy units at Instacart want to create more-relevant marketing strategies for different products and are, thus, curious about customer profiling in their database. Create a profiling variable based on age, income, certain goods in the “department_id” column, and number of dependents. You might also use the “orders_day_of_the_week” and “order_hour_of_day” columns if you can think of a way they would impact customer profiles. (Hint: As an example, try thinking of what characteristics would lead you to the profile “Single adult” or “Young parent.”)"
   ]
  },
  {
   "cell_type": "code",
   "execution_count": 1,
   "id": "3afec174",
   "metadata": {},
   "outputs": [],
   "source": [
    "# Import libraries\n",
    "\n",
    "import pandas as pd\n",
    "import numpy as np\n",
    "import os"
   ]
  },
  {
   "cell_type": "code",
   "execution_count": 3,
   "id": "d86c8f5a",
   "metadata": {},
   "outputs": [],
   "source": [
    "# Import dataset\n",
    "\n",
    "df_final = pd.read_pickle(r'C:\\Users\\Owner\\Desktop\\Data Analyst\\01-31-2022 Instacart Basket Analysis\\02 Data\\Prepared Data\\ords_prods_customer.pkl')"
   ]
  },
  {
   "cell_type": "code",
   "execution_count": 4,
   "id": "92cffa36",
   "metadata": {
    "scrolled": true
   },
   "outputs": [
    {
     "name": "stdout",
     "output_type": "stream",
     "text": [
      "<class 'pandas.core.frame.DataFrame'>\n",
      "Int64Index: 32404859 entries, 0 to 32404858\n",
      "Data columns (total 32 columns):\n",
      " #   Column                  Dtype   \n",
      "---  ------                  -----   \n",
      " 0   order_id                int32   \n",
      " 1   user_id                 int32   \n",
      " 2   order_number            int32   \n",
      " 3   orders_day_of_week      int32   \n",
      " 4   orders_time_of_day      int32   \n",
      " 5   days_since_prior_order  float32 \n",
      " 6   df_ords_first_order     bool    \n",
      " 7   product_id              int32   \n",
      " 8   add_to_cart_order       int32   \n",
      " 9   reordered               int32   \n",
      " 10  product_name            category\n",
      " 11  aisle_id                int32   \n",
      " 12  department_id           int32   \n",
      " 13  prices                  float32 \n",
      " 14  price_range_loc         category\n",
      " 15  busiest_days            category\n",
      " 16  busiest_period_of_day   category\n",
      " 17  max_order               int32   \n",
      " 18  loyalty_flag            category\n",
      " 19  spending                float32 \n",
      " 20  spending_flag           category\n",
      " 21  order_frequency         float32 \n",
      " 22  frequency_flag          category\n",
      " 23  surname                 object  \n",
      " 24  gender                  object  \n",
      " 25  state                   object  \n",
      " 26  age                     int32   \n",
      " 27  date_joined             object  \n",
      " 28  dependants              int32   \n",
      " 29  marital_status          object  \n",
      " 30  income                  int32   \n",
      " 31  _merge                  category\n",
      "dtypes: bool(1), category(8), float32(4), int32(14), object(5)\n",
      "memory usage: 12.5 GB\n"
     ]
    }
   ],
   "source": [
    "# Check memory usage\n",
    "\n",
    "df_final.info(memory_usage=\"deep\")"
   ]
  },
  {
   "cell_type": "markdown",
   "id": "c100e227",
   "metadata": {},
   "source": [
    "### To avoid memory error, I will try to reduce the size of the dataset"
   ]
  },
  {
   "cell_type": "code",
   "execution_count": 6,
   "id": "d5e77b49",
   "metadata": {},
   "outputs": [],
   "source": [
    "# Change 'gender', 'marital_status' to category\n",
    "\n",
    "df_final[['gender', 'marital_status']] = df_final[['gender', 'marital_status']].astype('category')"
   ]
  },
  {
   "cell_type": "code",
   "execution_count": 7,
   "id": "617c891a",
   "metadata": {
    "scrolled": true
   },
   "outputs": [
    {
     "data": {
      "text/html": [
       "<div>\n",
       "<style scoped>\n",
       "    .dataframe tbody tr th:only-of-type {\n",
       "        vertical-align: middle;\n",
       "    }\n",
       "\n",
       "    .dataframe tbody tr th {\n",
       "        vertical-align: top;\n",
       "    }\n",
       "\n",
       "    .dataframe thead th {\n",
       "        text-align: right;\n",
       "    }\n",
       "</style>\n",
       "<table border=\"1\" class=\"dataframe\">\n",
       "  <thead>\n",
       "    <tr style=\"text-align: right;\">\n",
       "      <th></th>\n",
       "      <th>order_id</th>\n",
       "      <th>user_id</th>\n",
       "      <th>order_number</th>\n",
       "      <th>orders_day_of_week</th>\n",
       "      <th>orders_time_of_day</th>\n",
       "      <th>days_since_prior_order</th>\n",
       "      <th>df_ords_first_order</th>\n",
       "      <th>product_id</th>\n",
       "      <th>add_to_cart_order</th>\n",
       "      <th>product_name</th>\n",
       "      <th>...</th>\n",
       "      <th>spending_flag</th>\n",
       "      <th>order_frequency</th>\n",
       "      <th>frequency_flag</th>\n",
       "      <th>gender</th>\n",
       "      <th>state</th>\n",
       "      <th>age</th>\n",
       "      <th>date_joined</th>\n",
       "      <th>dependants</th>\n",
       "      <th>marital_status</th>\n",
       "      <th>income</th>\n",
       "    </tr>\n",
       "  </thead>\n",
       "  <tbody>\n",
       "    <tr>\n",
       "      <th>0</th>\n",
       "      <td>2539329</td>\n",
       "      <td>1</td>\n",
       "      <td>1</td>\n",
       "      <td>2</td>\n",
       "      <td>8</td>\n",
       "      <td>NaN</td>\n",
       "      <td>True</td>\n",
       "      <td>196</td>\n",
       "      <td>1</td>\n",
       "      <td>Soda</td>\n",
       "      <td>...</td>\n",
       "      <td>Low spender</td>\n",
       "      <td>20.5</td>\n",
       "      <td>Non-frequent customer</td>\n",
       "      <td>Female</td>\n",
       "      <td>Alabama</td>\n",
       "      <td>31</td>\n",
       "      <td>2/17/2019</td>\n",
       "      <td>3</td>\n",
       "      <td>married</td>\n",
       "      <td>40423</td>\n",
       "    </tr>\n",
       "    <tr>\n",
       "      <th>1</th>\n",
       "      <td>2398795</td>\n",
       "      <td>1</td>\n",
       "      <td>2</td>\n",
       "      <td>3</td>\n",
       "      <td>7</td>\n",
       "      <td>15.0</td>\n",
       "      <td>False</td>\n",
       "      <td>196</td>\n",
       "      <td>1</td>\n",
       "      <td>Soda</td>\n",
       "      <td>...</td>\n",
       "      <td>Low spender</td>\n",
       "      <td>20.5</td>\n",
       "      <td>Non-frequent customer</td>\n",
       "      <td>Female</td>\n",
       "      <td>Alabama</td>\n",
       "      <td>31</td>\n",
       "      <td>2/17/2019</td>\n",
       "      <td>3</td>\n",
       "      <td>married</td>\n",
       "      <td>40423</td>\n",
       "    </tr>\n",
       "    <tr>\n",
       "      <th>2</th>\n",
       "      <td>473747</td>\n",
       "      <td>1</td>\n",
       "      <td>3</td>\n",
       "      <td>3</td>\n",
       "      <td>12</td>\n",
       "      <td>21.0</td>\n",
       "      <td>False</td>\n",
       "      <td>196</td>\n",
       "      <td>1</td>\n",
       "      <td>Soda</td>\n",
       "      <td>...</td>\n",
       "      <td>Low spender</td>\n",
       "      <td>20.5</td>\n",
       "      <td>Non-frequent customer</td>\n",
       "      <td>Female</td>\n",
       "      <td>Alabama</td>\n",
       "      <td>31</td>\n",
       "      <td>2/17/2019</td>\n",
       "      <td>3</td>\n",
       "      <td>married</td>\n",
       "      <td>40423</td>\n",
       "    </tr>\n",
       "    <tr>\n",
       "      <th>3</th>\n",
       "      <td>2254736</td>\n",
       "      <td>1</td>\n",
       "      <td>4</td>\n",
       "      <td>4</td>\n",
       "      <td>7</td>\n",
       "      <td>29.0</td>\n",
       "      <td>False</td>\n",
       "      <td>196</td>\n",
       "      <td>1</td>\n",
       "      <td>Soda</td>\n",
       "      <td>...</td>\n",
       "      <td>Low spender</td>\n",
       "      <td>20.5</td>\n",
       "      <td>Non-frequent customer</td>\n",
       "      <td>Female</td>\n",
       "      <td>Alabama</td>\n",
       "      <td>31</td>\n",
       "      <td>2/17/2019</td>\n",
       "      <td>3</td>\n",
       "      <td>married</td>\n",
       "      <td>40423</td>\n",
       "    </tr>\n",
       "    <tr>\n",
       "      <th>4</th>\n",
       "      <td>431534</td>\n",
       "      <td>1</td>\n",
       "      <td>5</td>\n",
       "      <td>4</td>\n",
       "      <td>15</td>\n",
       "      <td>28.0</td>\n",
       "      <td>False</td>\n",
       "      <td>196</td>\n",
       "      <td>1</td>\n",
       "      <td>Soda</td>\n",
       "      <td>...</td>\n",
       "      <td>Low spender</td>\n",
       "      <td>20.5</td>\n",
       "      <td>Non-frequent customer</td>\n",
       "      <td>Female</td>\n",
       "      <td>Alabama</td>\n",
       "      <td>31</td>\n",
       "      <td>2/17/2019</td>\n",
       "      <td>3</td>\n",
       "      <td>married</td>\n",
       "      <td>40423</td>\n",
       "    </tr>\n",
       "    <tr>\n",
       "      <th>...</th>\n",
       "      <td>...</td>\n",
       "      <td>...</td>\n",
       "      <td>...</td>\n",
       "      <td>...</td>\n",
       "      <td>...</td>\n",
       "      <td>...</td>\n",
       "      <td>...</td>\n",
       "      <td>...</td>\n",
       "      <td>...</td>\n",
       "      <td>...</td>\n",
       "      <td>...</td>\n",
       "      <td>...</td>\n",
       "      <td>...</td>\n",
       "      <td>...</td>\n",
       "      <td>...</td>\n",
       "      <td>...</td>\n",
       "      <td>...</td>\n",
       "      <td>...</td>\n",
       "      <td>...</td>\n",
       "      <td>...</td>\n",
       "      <td>...</td>\n",
       "    </tr>\n",
       "    <tr>\n",
       "      <th>32404854</th>\n",
       "      <td>156685</td>\n",
       "      <td>106143</td>\n",
       "      <td>26</td>\n",
       "      <td>4</td>\n",
       "      <td>23</td>\n",
       "      <td>5.0</td>\n",
       "      <td>False</td>\n",
       "      <td>19675</td>\n",
       "      <td>1</td>\n",
       "      <td>Organic Raspberry Black Tea</td>\n",
       "      <td>...</td>\n",
       "      <td>High spender</td>\n",
       "      <td>7.0</td>\n",
       "      <td>Frequent customer</td>\n",
       "      <td>Male</td>\n",
       "      <td>Hawaii</td>\n",
       "      <td>25</td>\n",
       "      <td>5/26/2017</td>\n",
       "      <td>0</td>\n",
       "      <td>single</td>\n",
       "      <td>53755</td>\n",
       "    </tr>\n",
       "    <tr>\n",
       "      <th>32404855</th>\n",
       "      <td>484769</td>\n",
       "      <td>66343</td>\n",
       "      <td>1</td>\n",
       "      <td>6</td>\n",
       "      <td>11</td>\n",
       "      <td>NaN</td>\n",
       "      <td>True</td>\n",
       "      <td>47210</td>\n",
       "      <td>1</td>\n",
       "      <td>Fresh Farmed Tilapia Fillet</td>\n",
       "      <td>...</td>\n",
       "      <td>Low spender</td>\n",
       "      <td>30.0</td>\n",
       "      <td>Non-frequent customer</td>\n",
       "      <td>Female</td>\n",
       "      <td>Tennessee</td>\n",
       "      <td>22</td>\n",
       "      <td>9/12/2017</td>\n",
       "      <td>3</td>\n",
       "      <td>married</td>\n",
       "      <td>46151</td>\n",
       "    </tr>\n",
       "    <tr>\n",
       "      <th>32404856</th>\n",
       "      <td>1561557</td>\n",
       "      <td>66343</td>\n",
       "      <td>2</td>\n",
       "      <td>1</td>\n",
       "      <td>11</td>\n",
       "      <td>30.0</td>\n",
       "      <td>False</td>\n",
       "      <td>47210</td>\n",
       "      <td>1</td>\n",
       "      <td>Fresh Farmed Tilapia Fillet</td>\n",
       "      <td>...</td>\n",
       "      <td>Low spender</td>\n",
       "      <td>30.0</td>\n",
       "      <td>Non-frequent customer</td>\n",
       "      <td>Female</td>\n",
       "      <td>Tennessee</td>\n",
       "      <td>22</td>\n",
       "      <td>9/12/2017</td>\n",
       "      <td>3</td>\n",
       "      <td>married</td>\n",
       "      <td>46151</td>\n",
       "    </tr>\n",
       "    <tr>\n",
       "      <th>32404857</th>\n",
       "      <td>276317</td>\n",
       "      <td>66343</td>\n",
       "      <td>3</td>\n",
       "      <td>6</td>\n",
       "      <td>15</td>\n",
       "      <td>19.0</td>\n",
       "      <td>False</td>\n",
       "      <td>47210</td>\n",
       "      <td>1</td>\n",
       "      <td>Fresh Farmed Tilapia Fillet</td>\n",
       "      <td>...</td>\n",
       "      <td>Low spender</td>\n",
       "      <td>30.0</td>\n",
       "      <td>Non-frequent customer</td>\n",
       "      <td>Female</td>\n",
       "      <td>Tennessee</td>\n",
       "      <td>22</td>\n",
       "      <td>9/12/2017</td>\n",
       "      <td>3</td>\n",
       "      <td>married</td>\n",
       "      <td>46151</td>\n",
       "    </tr>\n",
       "    <tr>\n",
       "      <th>32404858</th>\n",
       "      <td>2922475</td>\n",
       "      <td>66343</td>\n",
       "      <td>4</td>\n",
       "      <td>1</td>\n",
       "      <td>12</td>\n",
       "      <td>30.0</td>\n",
       "      <td>False</td>\n",
       "      <td>47210</td>\n",
       "      <td>1</td>\n",
       "      <td>Fresh Farmed Tilapia Fillet</td>\n",
       "      <td>...</td>\n",
       "      <td>Low spender</td>\n",
       "      <td>30.0</td>\n",
       "      <td>Non-frequent customer</td>\n",
       "      <td>Female</td>\n",
       "      <td>Tennessee</td>\n",
       "      <td>22</td>\n",
       "      <td>9/12/2017</td>\n",
       "      <td>3</td>\n",
       "      <td>married</td>\n",
       "      <td>46151</td>\n",
       "    </tr>\n",
       "  </tbody>\n",
       "</table>\n",
       "<p>32404859 rows × 29 columns</p>\n",
       "</div>"
      ],
      "text/plain": [
       "          order_id  user_id  order_number  orders_day_of_week  \\\n",
       "0          2539329        1             1                   2   \n",
       "1          2398795        1             2                   3   \n",
       "2           473747        1             3                   3   \n",
       "3          2254736        1             4                   4   \n",
       "4           431534        1             5                   4   \n",
       "...            ...      ...           ...                 ...   \n",
       "32404854    156685   106143            26                   4   \n",
       "32404855    484769    66343             1                   6   \n",
       "32404856   1561557    66343             2                   1   \n",
       "32404857    276317    66343             3                   6   \n",
       "32404858   2922475    66343             4                   1   \n",
       "\n",
       "          orders_time_of_day  days_since_prior_order  df_ords_first_order  \\\n",
       "0                          8                     NaN                 True   \n",
       "1                          7                    15.0                False   \n",
       "2                         12                    21.0                False   \n",
       "3                          7                    29.0                False   \n",
       "4                         15                    28.0                False   \n",
       "...                      ...                     ...                  ...   \n",
       "32404854                  23                     5.0                False   \n",
       "32404855                  11                     NaN                 True   \n",
       "32404856                  11                    30.0                False   \n",
       "32404857                  15                    19.0                False   \n",
       "32404858                  12                    30.0                False   \n",
       "\n",
       "          product_id  add_to_cart_order                 product_name  ...  \\\n",
       "0                196                  1                         Soda  ...   \n",
       "1                196                  1                         Soda  ...   \n",
       "2                196                  1                         Soda  ...   \n",
       "3                196                  1                         Soda  ...   \n",
       "4                196                  1                         Soda  ...   \n",
       "...              ...                ...                          ...  ...   \n",
       "32404854       19675                  1  Organic Raspberry Black Tea  ...   \n",
       "32404855       47210                  1  Fresh Farmed Tilapia Fillet  ...   \n",
       "32404856       47210                  1  Fresh Farmed Tilapia Fillet  ...   \n",
       "32404857       47210                  1  Fresh Farmed Tilapia Fillet  ...   \n",
       "32404858       47210                  1  Fresh Farmed Tilapia Fillet  ...   \n",
       "\n",
       "          spending_flag  order_frequency         frequency_flag  gender  \\\n",
       "0           Low spender             20.5  Non-frequent customer  Female   \n",
       "1           Low spender             20.5  Non-frequent customer  Female   \n",
       "2           Low spender             20.5  Non-frequent customer  Female   \n",
       "3           Low spender             20.5  Non-frequent customer  Female   \n",
       "4           Low spender             20.5  Non-frequent customer  Female   \n",
       "...                 ...              ...                    ...     ...   \n",
       "32404854   High spender              7.0      Frequent customer    Male   \n",
       "32404855    Low spender             30.0  Non-frequent customer  Female   \n",
       "32404856    Low spender             30.0  Non-frequent customer  Female   \n",
       "32404857    Low spender             30.0  Non-frequent customer  Female   \n",
       "32404858    Low spender             30.0  Non-frequent customer  Female   \n",
       "\n",
       "              state age  date_joined dependants  marital_status income  \n",
       "0           Alabama  31    2/17/2019          3         married  40423  \n",
       "1           Alabama  31    2/17/2019          3         married  40423  \n",
       "2           Alabama  31    2/17/2019          3         married  40423  \n",
       "3           Alabama  31    2/17/2019          3         married  40423  \n",
       "4           Alabama  31    2/17/2019          3         married  40423  \n",
       "...             ...  ..          ...        ...             ...    ...  \n",
       "32404854     Hawaii  25    5/26/2017          0          single  53755  \n",
       "32404855  Tennessee  22    9/12/2017          3         married  46151  \n",
       "32404856  Tennessee  22    9/12/2017          3         married  46151  \n",
       "32404857  Tennessee  22    9/12/2017          3         married  46151  \n",
       "32404858  Tennessee  22    9/12/2017          3         married  46151  \n",
       "\n",
       "[32404859 rows x 29 columns]"
      ]
     },
     "execution_count": 7,
     "metadata": {},
     "output_type": "execute_result"
    }
   ],
   "source": [
    "# Remove '_merge', 'reordered' and 'surname' column as they are not required for the analysis\n",
    "\n",
    "df_final.drop(columns = ['_merge', 'reordered', 'surname'])"
   ]
  },
  {
   "cell_type": "code",
   "execution_count": 8,
   "id": "3c6c7e81",
   "metadata": {},
   "outputs": [],
   "source": [
    "df_final = df_final.drop(columns = ['_merge', 'reordered', 'surname'])"
   ]
  },
  {
   "cell_type": "code",
   "execution_count": 10,
   "id": "c3bbfa96",
   "metadata": {},
   "outputs": [],
   "source": [
    "# Change data type for 'age' and 'dependants' columns to int8\n",
    "\n",
    "df_final = df_final.astype({\"age\": 'int8', \"dependants\": 'int8'})"
   ]
  },
  {
   "cell_type": "code",
   "execution_count": 12,
   "id": "88e1d99b",
   "metadata": {},
   "outputs": [],
   "source": [
    "df_final = df_final.astype({\"order_number\" : 'int8', \"orders_day_of_week\" : 'int8', \"orders_time_of_day\" : 'int8', \"max_order\" : 'int8', \"days_since_prior_order\" : 'float16', \"add_to_cart_order\" : 'int16', \"prices\" : 'float16'})"
   ]
  },
  {
   "cell_type": "code",
   "execution_count": 24,
   "id": "ed0fe3ee",
   "metadata": {},
   "outputs": [],
   "source": [
    "df_final = df_final.astype({\"aisle_id\" : 'int16', \"department_id\" : 'int16'})"
   ]
  },
  {
   "cell_type": "code",
   "execution_count": 26,
   "id": "0ba8cba2",
   "metadata": {},
   "outputs": [],
   "source": [
    "df_final[['state']] = df_final[['state']].astype('category')"
   ]
  },
  {
   "cell_type": "code",
   "execution_count": 27,
   "id": "1f95b47f",
   "metadata": {
    "scrolled": true
   },
   "outputs": [
    {
     "name": "stdout",
     "output_type": "stream",
     "text": [
      "<class 'pandas.core.frame.DataFrame'>\n",
      "Int64Index: 32404859 entries, 0 to 32404858\n",
      "Data columns (total 29 columns):\n",
      " #   Column                  Dtype   \n",
      "---  ------                  -----   \n",
      " 0   order_id                int32   \n",
      " 1   user_id                 int32   \n",
      " 2   order_number            int8    \n",
      " 3   orders_day_of_week      int8    \n",
      " 4   orders_time_of_day      int8    \n",
      " 5   days_since_prior_order  float16 \n",
      " 6   df_ords_first_order     bool    \n",
      " 7   product_id              int32   \n",
      " 8   add_to_cart_order       int16   \n",
      " 9   product_name            category\n",
      " 10  aisle_id                int16   \n",
      " 11  department_id           int16   \n",
      " 12  prices                  float16 \n",
      " 13  price_range_loc         category\n",
      " 14  busiest_days            category\n",
      " 15  busiest_period_of_day   category\n",
      " 16  max_order               int8    \n",
      " 17  loyalty_flag            category\n",
      " 18  spending                float32 \n",
      " 19  spending_flag           category\n",
      " 20  order_frequency         float32 \n",
      " 21  frequency_flag          category\n",
      " 22  gender                  category\n",
      " 23  state                   category\n",
      " 24  age                     int8    \n",
      " 25  date_joined             object  \n",
      " 26  dependants              int8    \n",
      " 27  marital_status          category\n",
      " 28  income                  int32   \n",
      "dtypes: bool(1), category(10), float16(2), float32(2), int16(3), int32(4), int8(6), object(1)\n",
      "memory usage: 3.9 GB\n"
     ]
    }
   ],
   "source": [
    "df_final.info(memory_usage=\"deep\")"
   ]
  },
  {
   "cell_type": "markdown",
   "id": "d47a9bb6",
   "metadata": {},
   "source": [
    "### By executing the commands above, I have reduced the memory usage from 12.5 GB to 3.9 GB "
   ]
  },
  {
   "cell_type": "markdown",
   "id": "27d83736",
   "metadata": {},
   "source": [
    "## Consider any security implications that might exist for this new data. You’ll need to address any PII data in the data before continuing your analysis."
   ]
  },
  {
   "cell_type": "markdown",
   "id": "f3bb36b1",
   "metadata": {},
   "source": [
    "#### The columns (first_name, surname) that contained PII data has been removed from the dataset. "
   ]
  },
  {
   "cell_type": "markdown",
   "id": "c232f6c8",
   "metadata": {},
   "source": [
    "## The Instacart officers are interested in comparing customer behavior in different geographic areas. Create a regional segmentation of the data. You’ll need to create a “Region” column based on the “State” column from your customers data set."
   ]
  },
  {
   "cell_type": "code",
   "execution_count": 31,
   "id": "c01534bb",
   "metadata": {
    "scrolled": true
   },
   "outputs": [
    {
     "data": {
      "text/plain": [
       "Pennsylvania            667082\n",
       "California              659783\n",
       "Rhode Island            656913\n",
       "Georgia                 656389\n",
       "New Mexico              654494\n",
       "Arizona                 653964\n",
       "North Carolina          651900\n",
       "Oklahoma                651739\n",
       "Alaska                  648495\n",
       "Minnesota               647825\n",
       "Massachusetts           646358\n",
       "Wyoming                 644255\n",
       "Virginia                641421\n",
       "Missouri                640732\n",
       "Texas                   640394\n",
       "Colorado                639280\n",
       "Maine                   638583\n",
       "North Dakota            638491\n",
       "Alabama                 638003\n",
       "Kansas                  637538\n",
       "Louisiana               637482\n",
       "Delaware                637024\n",
       "South Carolina          636754\n",
       "Oregon                  636425\n",
       "Arkansas                636144\n",
       "Nevada                  636139\n",
       "New York                635983\n",
       "Montana                 635265\n",
       "South Dakota            633772\n",
       "Illinois                633024\n",
       "Hawaii                  632901\n",
       "Washington              632852\n",
       "Mississippi             632675\n",
       "Kentucky                632490\n",
       "Michigan                630928\n",
       "Florida                 629027\n",
       "Ohio                    628319\n",
       "Wisconsin               628108\n",
       "New Jersey              627692\n",
       "Indiana                 627282\n",
       "Maryland                626579\n",
       "Nebraska                625813\n",
       "Iowa                    625493\n",
       "Connecticut             623022\n",
       "Tennessee               617873\n",
       "New Hampshire           615378\n",
       "District of Columbia    613695\n",
       "West Virginia           612296\n",
       "Utah                    611941\n",
       "Vermont                 611725\n",
       "Idaho                   607119\n",
       "Name: state, dtype: int64"
      ]
     },
     "execution_count": 31,
     "metadata": {},
     "output_type": "execute_result"
    }
   ],
   "source": [
    "# Print frequency for 'state' column\n",
    "\n",
    "df_final['state'].value_counts(dropna = False)"
   ]
  },
  {
   "cell_type": "markdown",
   "id": "b7455a73",
   "metadata": {},
   "source": [
    "### Use the region information in this Wikipedia article to create your column (you only need to create regions, not divisions)."
   ]
  },
  {
   "cell_type": "code",
   "execution_count": 32,
   "id": "cee71753",
   "metadata": {},
   "outputs": [],
   "source": [
    "# Create a flag for Northeast region\n",
    "\n",
    "df_final.loc[df_final['state'].isin(['Maine', 'New Hampshire', 'Vermont', 'Massachusetts', 'Rhode Island', 'Connecticut', 'New York', 'Pennsylvania', 'New Jersey']), 'region'] = 'Northeast'"
   ]
  },
  {
   "cell_type": "code",
   "execution_count": 34,
   "id": "07007b83",
   "metadata": {},
   "outputs": [],
   "source": [
    "# Create a flag for Midwest region\n",
    "\n",
    "df_final.loc[df_final['state'].isin(['Wisconsin', 'Michigan', 'Illinois', 'Indiana', 'Ohio', 'North Dakota', 'South Dakota', 'Nebraska', 'Kansas', 'Minnesota', 'Iowa', 'Missouri']), 'region'] = 'Midwest'"
   ]
  },
  {
   "cell_type": "code",
   "execution_count": 35,
   "id": "fbfe0f83",
   "metadata": {},
   "outputs": [],
   "source": [
    "# Create a flag for South region \n",
    "\n",
    "df_final.loc[df_final['state'].isin(['Delaware', 'Maryland', 'District of Columbia', 'Virginia', 'West Virginia', 'North Carolina', 'South Carolina', 'Georgia', 'Florida', 'Kentucky', 'Tennessee', 'Mississippi', 'Alabama', 'Oklahoma', 'Texas', 'Arkansas', 'Louisiana']), 'region'] = 'South'"
   ]
  },
  {
   "cell_type": "code",
   "execution_count": 36,
   "id": "95f87611",
   "metadata": {},
   "outputs": [],
   "source": [
    "# Create a flag for West region \n",
    "\n",
    "df_final.loc[df_final['state'].isin(['Idaho', 'Montana', 'Wyoming', 'Nevada', 'Utah', 'Colorado', 'Arizona', 'New Mexico', 'Alaska', 'Washington', 'Oregon', 'California', 'Hawaii']), 'region'] = 'West'"
   ]
  },
  {
   "cell_type": "code",
   "execution_count": 37,
   "id": "9cee8649",
   "metadata": {},
   "outputs": [
    {
     "data": {
      "text/plain": [
       "South        10791885\n",
       "West          8292913\n",
       "Midwest       7597325\n",
       "Northeast     5722736\n",
       "Name: region, dtype: int64"
      ]
     },
     "execution_count": 37,
     "metadata": {},
     "output_type": "execute_result"
    }
   ],
   "source": [
    "# Print frequency\n",
    "\n",
    "df_final['region'].value_counts(dropna = False)"
   ]
  },
  {
   "cell_type": "code",
   "execution_count": 38,
   "id": "2fcd4507",
   "metadata": {},
   "outputs": [
    {
     "data": {
      "text/plain": [
       "(32404859, 30)"
      ]
     },
     "execution_count": 38,
     "metadata": {},
     "output_type": "execute_result"
    }
   ],
   "source": [
    "df_final.shape"
   ]
  },
  {
   "cell_type": "code",
   "execution_count": 39,
   "id": "f8a3ba07",
   "metadata": {},
   "outputs": [
    {
     "data": {
      "text/plain": [
       "32404859"
      ]
     },
     "execution_count": 39,
     "metadata": {},
     "output_type": "execute_result"
    }
   ],
   "source": [
    "# Verify if all states are properly labeled by checking value counts\n",
    "\n",
    "10791885+8292913+7597325+5722736"
   ]
  },
  {
   "cell_type": "markdown",
   "id": "1baf6e35",
   "metadata": {},
   "source": [
    "### Determine whether there’s a difference in spending habits between the different U.S. regions. (Hint: You can do this by crossing the variable you just created with the spending flag.)"
   ]
  },
  {
   "cell_type": "code",
   "execution_count": 40,
   "id": "26b036cb",
   "metadata": {},
   "outputs": [],
   "source": [
    "# Create a crosstab\n",
    "\n",
    "crosstab = pd.crosstab(df_final['region'],df_final['spending_flag'],dropna = False)"
   ]
  },
  {
   "cell_type": "code",
   "execution_count": 41,
   "id": "9a30a83f",
   "metadata": {},
   "outputs": [
    {
     "data": {
      "text/html": [
       "<div>\n",
       "<style scoped>\n",
       "    .dataframe tbody tr th:only-of-type {\n",
       "        vertical-align: middle;\n",
       "    }\n",
       "\n",
       "    .dataframe tbody tr th {\n",
       "        vertical-align: top;\n",
       "    }\n",
       "\n",
       "    .dataframe thead th {\n",
       "        text-align: right;\n",
       "    }\n",
       "</style>\n",
       "<table border=\"1\" class=\"dataframe\">\n",
       "  <thead>\n",
       "    <tr style=\"text-align: right;\">\n",
       "      <th>spending_flag</th>\n",
       "      <th>High spender</th>\n",
       "      <th>Low spender</th>\n",
       "    </tr>\n",
       "    <tr>\n",
       "      <th>region</th>\n",
       "      <th></th>\n",
       "      <th></th>\n",
       "    </tr>\n",
       "  </thead>\n",
       "  <tbody>\n",
       "    <tr>\n",
       "      <th>Midwest</th>\n",
       "      <td>155975</td>\n",
       "      <td>7441350</td>\n",
       "    </tr>\n",
       "    <tr>\n",
       "      <th>Northeast</th>\n",
       "      <td>108225</td>\n",
       "      <td>5614511</td>\n",
       "    </tr>\n",
       "    <tr>\n",
       "      <th>South</th>\n",
       "      <td>209691</td>\n",
       "      <td>10582194</td>\n",
       "    </tr>\n",
       "    <tr>\n",
       "      <th>West</th>\n",
       "      <td>160354</td>\n",
       "      <td>8132559</td>\n",
       "    </tr>\n",
       "  </tbody>\n",
       "</table>\n",
       "</div>"
      ],
      "text/plain": [
       "spending_flag  High spender  Low spender\n",
       "region                                  \n",
       "Midwest              155975      7441350\n",
       "Northeast            108225      5614511\n",
       "South                209691     10582194\n",
       "West                 160354      8132559"
      ]
     },
     "execution_count": 41,
     "metadata": {},
     "output_type": "execute_result"
    }
   ],
   "source": [
    "crosstab"
   ]
  },
  {
   "cell_type": "code",
   "execution_count": 42,
   "id": "05011f0c",
   "metadata": {},
   "outputs": [
    {
     "data": {
      "text/plain": [
       "7597325"
      ]
     },
     "execution_count": 42,
     "metadata": {},
     "output_type": "execute_result"
    }
   ],
   "source": [
    "# Percent of high spenders for Midwest vs their total population \n",
    "\n",
    "155975+7441350"
   ]
  },
  {
   "cell_type": "code",
   "execution_count": 43,
   "id": "730529bc",
   "metadata": {},
   "outputs": [],
   "source": [
    "Midwest = (155975/7597325)*100"
   ]
  },
  {
   "cell_type": "code",
   "execution_count": 44,
   "id": "e9a73197",
   "metadata": {},
   "outputs": [
    {
     "data": {
      "text/plain": [
       "7705550"
      ]
     },
     "execution_count": 44,
     "metadata": {},
     "output_type": "execute_result"
    }
   ],
   "source": [
    "# Percent of high spenders for Northeast vs their total population \n",
    "\n",
    "108225+7597325"
   ]
  },
  {
   "cell_type": "code",
   "execution_count": 45,
   "id": "2f57a670",
   "metadata": {},
   "outputs": [],
   "source": [
    "Northeast = (108225/7705550)*100"
   ]
  },
  {
   "cell_type": "code",
   "execution_count": 46,
   "id": "6066c658",
   "metadata": {},
   "outputs": [
    {
     "data": {
      "text/plain": [
       "10791885"
      ]
     },
     "execution_count": 46,
     "metadata": {},
     "output_type": "execute_result"
    }
   ],
   "source": [
    "# Percent of high spenders for South vs their total population \n",
    "\n",
    "209691+10582194"
   ]
  },
  {
   "cell_type": "code",
   "execution_count": 47,
   "id": "ee912105",
   "metadata": {},
   "outputs": [],
   "source": [
    "South = (209691/10791885)*100"
   ]
  },
  {
   "cell_type": "code",
   "execution_count": 48,
   "id": "24415b59",
   "metadata": {},
   "outputs": [
    {
     "data": {
      "text/plain": [
       "8292913"
      ]
     },
     "execution_count": 48,
     "metadata": {},
     "output_type": "execute_result"
    }
   ],
   "source": [
    "# Percent of high spenders for West vs their total population \n",
    "\n",
    "160354+8132559"
   ]
  },
  {
   "cell_type": "code",
   "execution_count": 49,
   "id": "6bdb4e32",
   "metadata": {},
   "outputs": [],
   "source": [
    "West = (160354/8292913)*100"
   ]
  },
  {
   "cell_type": "code",
   "execution_count": 50,
   "id": "ddb23a91",
   "metadata": {},
   "outputs": [
    {
     "data": {
      "text/plain": [
       "2.053025242437305"
      ]
     },
     "execution_count": 50,
     "metadata": {},
     "output_type": "execute_result"
    }
   ],
   "source": [
    "Midwest"
   ]
  },
  {
   "cell_type": "code",
   "execution_count": 51,
   "id": "a6e33a62",
   "metadata": {},
   "outputs": [
    {
     "data": {
      "text/plain": [
       "1.4045071409568428"
      ]
     },
     "execution_count": 51,
     "metadata": {},
     "output_type": "execute_result"
    }
   ],
   "source": [
    "Northeast"
   ]
  },
  {
   "cell_type": "code",
   "execution_count": 52,
   "id": "876f0144",
   "metadata": {},
   "outputs": [
    {
     "data": {
      "text/plain": [
       "1.9430433144904713"
      ]
     },
     "execution_count": 52,
     "metadata": {},
     "output_type": "execute_result"
    }
   ],
   "source": [
    "South"
   ]
  },
  {
   "cell_type": "code",
   "execution_count": 53,
   "id": "9c27f0cb",
   "metadata": {},
   "outputs": [
    {
     "data": {
      "text/plain": [
       "1.9336269414619447"
      ]
     },
     "execution_count": 53,
     "metadata": {},
     "output_type": "execute_result"
    }
   ],
   "source": [
    "West"
   ]
  },
  {
   "cell_type": "markdown",
   "id": "dfb6ac04",
   "metadata": {},
   "source": [
    "#### There isn't much difference in the spending habits between all the four regions. However, Northeast region has the lowest spending percentage amongst all."
   ]
  },
  {
   "cell_type": "markdown",
   "id": "e6e38770",
   "metadata": {},
   "source": [
    "## The Instacart CFO isn’t interested in customers who don’t generate much revenue for the app. Create an exclusion flag for low-activity customers (customers with less than 5 orders) and exclude them from the data. Make sure you export this sample."
   ]
  },
  {
   "cell_type": "code",
   "execution_count": 54,
   "id": "d0d4a536",
   "metadata": {},
   "outputs": [],
   "source": [
    "# Create low-activity flag for customers with less than 5 orders\n",
    "\n",
    "df_final.loc[df_final['max_order'] < 5, 'exclusion_flag'] = 'low activity customer'"
   ]
  },
  {
   "cell_type": "code",
   "execution_count": 55,
   "id": "df6b2bdc",
   "metadata": {},
   "outputs": [],
   "source": [
    "# Create high-activity flag for customers with more than 5 orders\n",
    "\n",
    "df_final.loc[df_final['max_order'] >= 5, 'exclusion_flag'] = 'high activity customer'"
   ]
  },
  {
   "cell_type": "code",
   "execution_count": 56,
   "id": "71400438",
   "metadata": {},
   "outputs": [
    {
     "data": {
      "text/plain": [
       "high activity customer    30964564\n",
       "low activity customer      1440295\n",
       "Name: exclusion_flag, dtype: int64"
      ]
     },
     "execution_count": 56,
     "metadata": {},
     "output_type": "execute_result"
    }
   ],
   "source": [
    "# Print frequency\n",
    "\n",
    "df_final['exclusion_flag'].value_counts(dropna = False)"
   ]
  },
  {
   "cell_type": "code",
   "execution_count": 58,
   "id": "97e14f1f",
   "metadata": {},
   "outputs": [
    {
     "data": {
      "text/plain": [
       "region            object\n",
       "exclusion_flag    object\n",
       "dtype: object"
      ]
     },
     "execution_count": 58,
     "metadata": {},
     "output_type": "execute_result"
    }
   ],
   "source": [
    "df_final[['region', 'exclusion_flag']].dtypes"
   ]
  },
  {
   "cell_type": "code",
   "execution_count": 60,
   "id": "efd8febc",
   "metadata": {},
   "outputs": [],
   "source": [
    "# Change datatype to category\n",
    "\n",
    "df_final[['region', 'exclusion_flag']] = df_final[['region', 'exclusion_flag']].astype('category')"
   ]
  },
  {
   "cell_type": "code",
   "execution_count": 61,
   "id": "37ba7dc7",
   "metadata": {},
   "outputs": [],
   "source": [
    "# Create new dataframe that only shows low-activity customers\n",
    "\n",
    "low_df = df_final[df_final['exclusion_flag'] == 'low activity customer']"
   ]
  },
  {
   "cell_type": "code",
   "execution_count": 62,
   "id": "3e894213",
   "metadata": {},
   "outputs": [
    {
     "data": {
      "text/plain": [
       "1"
      ]
     },
     "execution_count": 62,
     "metadata": {},
     "output_type": "execute_result"
    }
   ],
   "source": [
    "low_df['max_order'].min()"
   ]
  },
  {
   "cell_type": "code",
   "execution_count": 63,
   "id": "293ba884",
   "metadata": {},
   "outputs": [
    {
     "data": {
      "text/plain": [
       "4"
      ]
     },
     "execution_count": 63,
     "metadata": {},
     "output_type": "execute_result"
    }
   ],
   "source": [
    "low_df['max_order'].max()"
   ]
  },
  {
   "cell_type": "code",
   "execution_count": 64,
   "id": "2c9253ac",
   "metadata": {},
   "outputs": [],
   "source": [
    "# Create new dataframe that excludes low activity customers\n",
    "\n",
    "df_new = df_final[df_final['exclusion_flag'] == 'high activity customer']"
   ]
  },
  {
   "cell_type": "code",
   "execution_count": 67,
   "id": "f913553b",
   "metadata": {},
   "outputs": [
    {
     "data": {
      "text/html": [
       "<div>\n",
       "<style scoped>\n",
       "    .dataframe tbody tr th:only-of-type {\n",
       "        vertical-align: middle;\n",
       "    }\n",
       "\n",
       "    .dataframe tbody tr th {\n",
       "        vertical-align: top;\n",
       "    }\n",
       "\n",
       "    .dataframe thead th {\n",
       "        text-align: right;\n",
       "    }\n",
       "</style>\n",
       "<table border=\"1\" class=\"dataframe\">\n",
       "  <thead>\n",
       "    <tr style=\"text-align: right;\">\n",
       "      <th></th>\n",
       "      <th>order_id</th>\n",
       "      <th>user_id</th>\n",
       "      <th>order_number</th>\n",
       "      <th>orders_day_of_week</th>\n",
       "      <th>orders_time_of_day</th>\n",
       "      <th>days_since_prior_order</th>\n",
       "      <th>df_ords_first_order</th>\n",
       "      <th>product_id</th>\n",
       "      <th>add_to_cart_order</th>\n",
       "      <th>product_name</th>\n",
       "      <th>...</th>\n",
       "      <th>frequency_flag</th>\n",
       "      <th>gender</th>\n",
       "      <th>state</th>\n",
       "      <th>age</th>\n",
       "      <th>date_joined</th>\n",
       "      <th>dependants</th>\n",
       "      <th>marital_status</th>\n",
       "      <th>income</th>\n",
       "      <th>region</th>\n",
       "      <th>exclusion_flag</th>\n",
       "    </tr>\n",
       "  </thead>\n",
       "  <tbody>\n",
       "    <tr>\n",
       "      <th>0</th>\n",
       "      <td>2539329</td>\n",
       "      <td>1</td>\n",
       "      <td>1</td>\n",
       "      <td>2</td>\n",
       "      <td>8</td>\n",
       "      <td>NaN</td>\n",
       "      <td>True</td>\n",
       "      <td>196</td>\n",
       "      <td>1</td>\n",
       "      <td>Soda</td>\n",
       "      <td>...</td>\n",
       "      <td>Non-frequent customer</td>\n",
       "      <td>Female</td>\n",
       "      <td>Alabama</td>\n",
       "      <td>31</td>\n",
       "      <td>2/17/2019</td>\n",
       "      <td>3</td>\n",
       "      <td>married</td>\n",
       "      <td>40423</td>\n",
       "      <td>South</td>\n",
       "      <td>high activity customer</td>\n",
       "    </tr>\n",
       "    <tr>\n",
       "      <th>1</th>\n",
       "      <td>2398795</td>\n",
       "      <td>1</td>\n",
       "      <td>2</td>\n",
       "      <td>3</td>\n",
       "      <td>7</td>\n",
       "      <td>15.0</td>\n",
       "      <td>False</td>\n",
       "      <td>196</td>\n",
       "      <td>1</td>\n",
       "      <td>Soda</td>\n",
       "      <td>...</td>\n",
       "      <td>Non-frequent customer</td>\n",
       "      <td>Female</td>\n",
       "      <td>Alabama</td>\n",
       "      <td>31</td>\n",
       "      <td>2/17/2019</td>\n",
       "      <td>3</td>\n",
       "      <td>married</td>\n",
       "      <td>40423</td>\n",
       "      <td>South</td>\n",
       "      <td>high activity customer</td>\n",
       "    </tr>\n",
       "    <tr>\n",
       "      <th>2</th>\n",
       "      <td>473747</td>\n",
       "      <td>1</td>\n",
       "      <td>3</td>\n",
       "      <td>3</td>\n",
       "      <td>12</td>\n",
       "      <td>21.0</td>\n",
       "      <td>False</td>\n",
       "      <td>196</td>\n",
       "      <td>1</td>\n",
       "      <td>Soda</td>\n",
       "      <td>...</td>\n",
       "      <td>Non-frequent customer</td>\n",
       "      <td>Female</td>\n",
       "      <td>Alabama</td>\n",
       "      <td>31</td>\n",
       "      <td>2/17/2019</td>\n",
       "      <td>3</td>\n",
       "      <td>married</td>\n",
       "      <td>40423</td>\n",
       "      <td>South</td>\n",
       "      <td>high activity customer</td>\n",
       "    </tr>\n",
       "    <tr>\n",
       "      <th>3</th>\n",
       "      <td>2254736</td>\n",
       "      <td>1</td>\n",
       "      <td>4</td>\n",
       "      <td>4</td>\n",
       "      <td>7</td>\n",
       "      <td>29.0</td>\n",
       "      <td>False</td>\n",
       "      <td>196</td>\n",
       "      <td>1</td>\n",
       "      <td>Soda</td>\n",
       "      <td>...</td>\n",
       "      <td>Non-frequent customer</td>\n",
       "      <td>Female</td>\n",
       "      <td>Alabama</td>\n",
       "      <td>31</td>\n",
       "      <td>2/17/2019</td>\n",
       "      <td>3</td>\n",
       "      <td>married</td>\n",
       "      <td>40423</td>\n",
       "      <td>South</td>\n",
       "      <td>high activity customer</td>\n",
       "    </tr>\n",
       "    <tr>\n",
       "      <th>4</th>\n",
       "      <td>431534</td>\n",
       "      <td>1</td>\n",
       "      <td>5</td>\n",
       "      <td>4</td>\n",
       "      <td>15</td>\n",
       "      <td>28.0</td>\n",
       "      <td>False</td>\n",
       "      <td>196</td>\n",
       "      <td>1</td>\n",
       "      <td>Soda</td>\n",
       "      <td>...</td>\n",
       "      <td>Non-frequent customer</td>\n",
       "      <td>Female</td>\n",
       "      <td>Alabama</td>\n",
       "      <td>31</td>\n",
       "      <td>2/17/2019</td>\n",
       "      <td>3</td>\n",
       "      <td>married</td>\n",
       "      <td>40423</td>\n",
       "      <td>South</td>\n",
       "      <td>high activity customer</td>\n",
       "    </tr>\n",
       "  </tbody>\n",
       "</table>\n",
       "<p>5 rows × 31 columns</p>\n",
       "</div>"
      ],
      "text/plain": [
       "   order_id  user_id  order_number  orders_day_of_week  orders_time_of_day  \\\n",
       "0   2539329        1             1                   2                   8   \n",
       "1   2398795        1             2                   3                   7   \n",
       "2    473747        1             3                   3                  12   \n",
       "3   2254736        1             4                   4                   7   \n",
       "4    431534        1             5                   4                  15   \n",
       "\n",
       "   days_since_prior_order  df_ords_first_order  product_id  add_to_cart_order  \\\n",
       "0                     NaN                 True         196                  1   \n",
       "1                    15.0                False         196                  1   \n",
       "2                    21.0                False         196                  1   \n",
       "3                    29.0                False         196                  1   \n",
       "4                    28.0                False         196                  1   \n",
       "\n",
       "  product_name  ...         frequency_flag  gender    state age date_joined  \\\n",
       "0         Soda  ...  Non-frequent customer  Female  Alabama  31   2/17/2019   \n",
       "1         Soda  ...  Non-frequent customer  Female  Alabama  31   2/17/2019   \n",
       "2         Soda  ...  Non-frequent customer  Female  Alabama  31   2/17/2019   \n",
       "3         Soda  ...  Non-frequent customer  Female  Alabama  31   2/17/2019   \n",
       "4         Soda  ...  Non-frequent customer  Female  Alabama  31   2/17/2019   \n",
       "\n",
       "  dependants  marital_status income  region          exclusion_flag  \n",
       "0          3         married  40423   South  high activity customer  \n",
       "1          3         married  40423   South  high activity customer  \n",
       "2          3         married  40423   South  high activity customer  \n",
       "3          3         married  40423   South  high activity customer  \n",
       "4          3         married  40423   South  high activity customer  \n",
       "\n",
       "[5 rows x 31 columns]"
      ]
     },
     "execution_count": 67,
     "metadata": {},
     "output_type": "execute_result"
    }
   ],
   "source": [
    "df_new.head()"
   ]
  },
  {
   "cell_type": "markdown",
   "id": "c8183d00",
   "metadata": {},
   "source": [
    "## Export Dataset"
   ]
  },
  {
   "cell_type": "code",
   "execution_count": 68,
   "id": "cf7326fa",
   "metadata": {},
   "outputs": [],
   "source": [
    "path = r'C:\\Users\\Owner\\Desktop\\Data Analyst\\01-31-2022 Instacart Basket Analysis'"
   ]
  },
  {
   "cell_type": "code",
   "execution_count": 69,
   "id": "41ce14f4",
   "metadata": {},
   "outputs": [],
   "source": [
    "df_new.to_pickle(os.path.join(path, '02 Data','Prepared Data', 'df_new.pkl'))"
   ]
  },
  {
   "cell_type": "markdown",
   "id": "12cd24ad",
   "metadata": {},
   "source": [
    "## The marketing and business strategy units at Instacart want to create more-relevant marketing strategies for different products and are, thus, curious about customer profiling in their database. Create a profiling variable based on age, income, certain goods in the “department_id” column, and number of dependents. You might also use the “orders_day_of_the_week” and “order_hour_of_day” columns if you can think of a way they would impact customer profiles. (Hint: As an example, try thinking of what characteristics would lead you to the profile “Single adult” or “Young parent.”)\n"
   ]
  },
  {
   "cell_type": "markdown",
   "id": "f6f15fa5",
   "metadata": {},
   "source": [
    "## Create variables based on age, income, number of dependants / customer profile"
   ]
  },
  {
   "cell_type": "markdown",
   "id": "ffe44925",
   "metadata": {},
   "source": [
    "### Age bracket"
   ]
  },
  {
   "cell_type": "code",
   "execution_count": 70,
   "id": "9105cbf7",
   "metadata": {},
   "outputs": [
    {
     "data": {
      "text/plain": [
       "18"
      ]
     },
     "execution_count": 70,
     "metadata": {},
     "output_type": "execute_result"
    }
   ],
   "source": [
    "# Check age range (min and max)\n",
    "\n",
    "df_final['age'].min()"
   ]
  },
  {
   "cell_type": "code",
   "execution_count": 71,
   "id": "6cb814d5",
   "metadata": {},
   "outputs": [
    {
     "data": {
      "text/plain": [
       "81"
      ]
     },
     "execution_count": 71,
     "metadata": {},
     "output_type": "execute_result"
    }
   ],
   "source": [
    "df_final['age'].max()"
   ]
  },
  {
   "cell_type": "code",
   "execution_count": 72,
   "id": "aa53254e",
   "metadata": {},
   "outputs": [],
   "source": [
    "# Create age bracket\n",
    "\n",
    "age_group = []\n",
    "\n",
    "for value in df_final['age']:\n",
    "    if value <= 20:\n",
    "        age_group.append('15-20')\n",
    "    elif (value > 20) and (value <= 30):\n",
    "        age_group.append('21-30')\n",
    "    elif (value > 30) and (value <= 40):\n",
    "        age_group.append('31-40')\n",
    "    elif (value > 40) and (value <= 50):\n",
    "        age_group.append('41-50')\n",
    "    elif (value > 50) and (value <= 60):\n",
    "        age_group.append('51-60')\n",
    "    elif (value > 60) and (value <= 70):\n",
    "        age_group.append('61-70')\n",
    "    elif (value > 70) and (value <= 80):\n",
    "        age_group.append('71-80')\n",
    "    elif (value > 80) and (value <= 82):\n",
    "        age_group.append('80+')    \n",
    "    else:\n",
    "        result.append('no match found')"
   ]
  },
  {
   "cell_type": "code",
   "execution_count": 73,
   "id": "6aeb35f4",
   "metadata": {},
   "outputs": [],
   "source": [
    "# Create age_group column\n",
    "\n",
    "df_final['age_group'] = age_group"
   ]
  },
  {
   "cell_type": "code",
   "execution_count": 75,
   "id": "b6afc805",
   "metadata": {},
   "outputs": [
    {
     "data": {
      "text/plain": [
       "15-20    1522928\n",
       "21-30    5076431\n",
       "31-40    5070687\n",
       "41-50    5092179\n",
       "51-60    5059795\n",
       "61-70    5004669\n",
       "71-80    5068886\n",
       "80+       509284\n",
       "Name: age_group, dtype: int64"
      ]
     },
     "execution_count": 75,
     "metadata": {},
     "output_type": "execute_result"
    }
   ],
   "source": [
    "# Print frequency\n",
    "\n",
    "df_final['age_group'].value_counts().sort_index()"
   ]
  },
  {
   "cell_type": "markdown",
   "id": "d95ca953",
   "metadata": {},
   "source": [
    "### Income bracket"
   ]
  },
  {
   "cell_type": "code",
   "execution_count": 76,
   "id": "dad64985",
   "metadata": {},
   "outputs": [
    {
     "data": {
      "text/plain": [
       "25903"
      ]
     },
     "execution_count": 76,
     "metadata": {},
     "output_type": "execute_result"
    }
   ],
   "source": [
    "# Check income range (min and max)\n",
    "\n",
    "df_final['income'].min()"
   ]
  },
  {
   "cell_type": "code",
   "execution_count": 77,
   "id": "204f54d0",
   "metadata": {},
   "outputs": [
    {
     "data": {
      "text/plain": [
       "593901"
      ]
     },
     "execution_count": 77,
     "metadata": {},
     "output_type": "execute_result"
    }
   ],
   "source": [
    "df_final['income'].max()"
   ]
  },
  {
   "cell_type": "code",
   "execution_count": 78,
   "id": "9008f553",
   "metadata": {},
   "outputs": [],
   "source": [
    "# Create income bracket \n",
    "\n",
    "income = []\n",
    "\n",
    "for value in df_final['income']:\n",
    "    if value <= 50000: \n",
    "        income.append('20000 - 50000')\n",
    "    elif (value > 50000) and (value <= 100000):\n",
    "        income.append('50000 - 100000')\n",
    "    elif (value > 100000) and (value <= 200000):\n",
    "        income.append('100000 - 200000')\n",
    "    elif (value > 200000) and (value <= 300000):\n",
    "        income.append('200000 - 300000')\n",
    "    elif (value > 300000) and (value <= 400000):\n",
    "        income.append('120000 - 160000')\n",
    "    elif (value > 400000) and (value <= 500000):\n",
    "        income.append('400000 - 500000')\n",
    "    elif (value > 500000) and (value <= 600000):\n",
    "        income.append('500000 - 600000')\n",
    "    else: \n",
    "        result.append('no match found')"
   ]
  },
  {
   "cell_type": "code",
   "execution_count": 79,
   "id": "39dce1aa",
   "metadata": {},
   "outputs": [],
   "source": [
    "# Create income_group column\n",
    "\n",
    "df_final['income_group'] = income"
   ]
  },
  {
   "cell_type": "code",
   "execution_count": 80,
   "id": "bbd9ca11",
   "metadata": {},
   "outputs": [
    {
     "data": {
      "text/plain": [
       "100000 - 200000    14555759\n",
       "120000 - 160000       53931\n",
       "20000 - 50000       3594083\n",
       "200000 - 300000      156820\n",
       "400000 - 500000       28337\n",
       "50000 - 100000     13996574\n",
       "500000 - 600000       19355\n",
       "Name: income_group, dtype: int64"
      ]
     },
     "execution_count": 80,
     "metadata": {},
     "output_type": "execute_result"
    }
   ],
   "source": [
    "# Print frequency\n",
    "\n",
    "df_final['income_group'].value_counts().sort_index()"
   ]
  },
  {
   "cell_type": "markdown",
   "id": "cd3ab8e4",
   "metadata": {},
   "source": [
    "### Number of dependants"
   ]
  },
  {
   "cell_type": "code",
   "execution_count": 81,
   "id": "77b99e5f",
   "metadata": {},
   "outputs": [
    {
     "data": {
      "text/plain": [
       "0    8097503\n",
       "1    8081104\n",
       "2    8091143\n",
       "3    8135109\n",
       "Name: dependants, dtype: int64"
      ]
     },
     "execution_count": 81,
     "metadata": {},
     "output_type": "execute_result"
    }
   ],
   "source": [
    "df_final['dependants'].value_counts().sort_index()"
   ]
  },
  {
   "cell_type": "code",
   "execution_count": 82,
   "id": "818a658b",
   "metadata": {},
   "outputs": [],
   "source": [
    "# Create parent bracket\n",
    "\n",
    "df_final.loc[(df_final['dependants'] >= 1), 'parental_status'] = 'Parent'"
   ]
  },
  {
   "cell_type": "code",
   "execution_count": 83,
   "id": "b6fb05cf",
   "metadata": {},
   "outputs": [],
   "source": [
    "df_final.loc[(df_final['dependants'] == 0), 'parental_status'] = 'Non-parent'"
   ]
  },
  {
   "cell_type": "code",
   "execution_count": 85,
   "id": "bd1bd11e",
   "metadata": {},
   "outputs": [
    {
     "data": {
      "text/plain": [
       "Parent        24307356\n",
       "Non-parent     8097503\n",
       "Name: parental_status, dtype: int64"
      ]
     },
     "execution_count": 85,
     "metadata": {},
     "output_type": "execute_result"
    }
   ],
   "source": [
    "# Print parental_status frequency\n",
    "\n",
    "df_final['parental_status'].value_counts(dropna = False)"
   ]
  },
  {
   "cell_type": "code",
   "execution_count": 87,
   "id": "d78b9300",
   "metadata": {},
   "outputs": [
    {
     "data": {
      "text/plain": [
       "age_group          object\n",
       "income_group       object\n",
       "parental_status    object\n",
       "dtype: object"
      ]
     },
     "execution_count": 87,
     "metadata": {},
     "output_type": "execute_result"
    }
   ],
   "source": [
    "df_final[['age_group', 'income_group', 'parental_status']].dtypes"
   ]
  },
  {
   "cell_type": "code",
   "execution_count": 88,
   "id": "a9328064",
   "metadata": {},
   "outputs": [],
   "source": [
    "df_final[['age_group', 'income_group', 'parental_status']] = df_final[['age_group', 'income_group', 'parental_status']].astype('category')"
   ]
  },
  {
   "cell_type": "code",
   "execution_count": 89,
   "id": "109b4531",
   "metadata": {
    "scrolled": true
   },
   "outputs": [
    {
     "name": "stdout",
     "output_type": "stream",
     "text": [
      "<class 'pandas.core.frame.DataFrame'>\n",
      "Int64Index: 32404859 entries, 0 to 32404858\n",
      "Data columns (total 34 columns):\n",
      " #   Column                  Dtype   \n",
      "---  ------                  -----   \n",
      " 0   order_id                int32   \n",
      " 1   user_id                 int32   \n",
      " 2   order_number            int8    \n",
      " 3   orders_day_of_week      int8    \n",
      " 4   orders_time_of_day      int8    \n",
      " 5   days_since_prior_order  float16 \n",
      " 6   df_ords_first_order     bool    \n",
      " 7   product_id              int32   \n",
      " 8   add_to_cart_order       int16   \n",
      " 9   product_name            category\n",
      " 10  aisle_id                int16   \n",
      " 11  department_id           int16   \n",
      " 12  prices                  float16 \n",
      " 13  price_range_loc         category\n",
      " 14  busiest_days            category\n",
      " 15  busiest_period_of_day   category\n",
      " 16  max_order               int8    \n",
      " 17  loyalty_flag            category\n",
      " 18  spending                float32 \n",
      " 19  spending_flag           category\n",
      " 20  order_frequency         float32 \n",
      " 21  frequency_flag          category\n",
      " 22  gender                  category\n",
      " 23  state                   category\n",
      " 24  age                     int8    \n",
      " 25  date_joined             object  \n",
      " 26  dependants              int8    \n",
      " 27  marital_status          category\n",
      " 28  income                  int32   \n",
      " 29  region                  category\n",
      " 30  exclusion_flag          category\n",
      " 31  age_group               category\n",
      " 32  income_group            category\n",
      " 33  parental_status         category\n",
      "dtypes: bool(1), category(15), float16(2), float32(2), int16(3), int32(4), int8(6), object(1)\n",
      "memory usage: 4.0 GB\n"
     ]
    }
   ],
   "source": [
    "df_final.info(memory_usage=\"deep\")"
   ]
  },
  {
   "cell_type": "markdown",
   "id": "311ce352",
   "metadata": {},
   "source": [
    "### Orders day of the week"
   ]
  },
  {
   "cell_type": "code",
   "execution_count": 90,
   "id": "c9982e1e",
   "metadata": {},
   "outputs": [
    {
     "data": {
      "text/plain": [
       "0    6204182\n",
       "1    5660230\n",
       "2    4213830\n",
       "3    3840534\n",
       "4    3783802\n",
       "5    4205791\n",
       "6    4496490\n",
       "Name: orders_day_of_week, dtype: int64"
      ]
     },
     "execution_count": 90,
     "metadata": {},
     "output_type": "execute_result"
    }
   ],
   "source": [
    "df_final['orders_day_of_week'].value_counts().sort_index()"
   ]
  },
  {
   "cell_type": "code",
   "execution_count": 98,
   "id": "02ac26ee",
   "metadata": {},
   "outputs": [],
   "source": [
    "df_final.loc[df_final['orders_day_of_week'] == 0, 'day_of_week'] = 'Saturday'"
   ]
  },
  {
   "cell_type": "code",
   "execution_count": 99,
   "id": "cb84d5a7",
   "metadata": {},
   "outputs": [],
   "source": [
    "df_final.loc[df_final['orders_day_of_week'] == 1, 'day_of_week'] = 'Sunday'"
   ]
  },
  {
   "cell_type": "code",
   "execution_count": 100,
   "id": "7c63163f",
   "metadata": {},
   "outputs": [],
   "source": [
    "df_final.loc[df_final['orders_day_of_week'] == 2, 'day_of_week'] = 'Monday'"
   ]
  },
  {
   "cell_type": "code",
   "execution_count": 101,
   "id": "ad2d34eb",
   "metadata": {},
   "outputs": [],
   "source": [
    "df_final.loc[df_final['orders_day_of_week'] == 3, 'day_of_week'] = 'Tuesday'"
   ]
  },
  {
   "cell_type": "code",
   "execution_count": 102,
   "id": "6175f868",
   "metadata": {},
   "outputs": [],
   "source": [
    "df_final.loc[df_final['orders_day_of_week'] == 4, 'day_of_week'] = 'Wednesday'"
   ]
  },
  {
   "cell_type": "code",
   "execution_count": 103,
   "id": "33aac75e",
   "metadata": {},
   "outputs": [],
   "source": [
    "df_final.loc[df_final['orders_day_of_week'] == 5, 'day_of_week'] = 'Thursday'"
   ]
  },
  {
   "cell_type": "code",
   "execution_count": 104,
   "id": "93621c65",
   "metadata": {},
   "outputs": [],
   "source": [
    "df_final.loc[df_final['orders_day_of_week'] == 6, 'day_of_week'] = 'Friday'"
   ]
  },
  {
   "cell_type": "code",
   "execution_count": 126,
   "id": "88ca45d8",
   "metadata": {},
   "outputs": [
    {
     "data": {
      "text/plain": [
       "Friday       4496490\n",
       "Monday       4213830\n",
       "Saturday     6204182\n",
       "Sunday       5660230\n",
       "Thursday     4205791\n",
       "Tuesday      3840534\n",
       "Wednesday    3783802\n",
       "Name: day_of_week, dtype: int64"
      ]
     },
     "execution_count": 126,
     "metadata": {},
     "output_type": "execute_result"
    }
   ],
   "source": [
    "# Print frequency\n",
    "\n",
    "df_final['day_of_week'].value_counts().sort_index()"
   ]
  },
  {
   "cell_type": "markdown",
   "id": "2f3e4267",
   "metadata": {},
   "source": [
    "### Order time of day"
   ]
  },
  {
   "cell_type": "code",
   "execution_count": 109,
   "id": "25f3f88a",
   "metadata": {},
   "outputs": [
    {
     "data": {
      "text/plain": [
       "0      218769\n",
       "1      115700\n",
       "2       69375\n",
       "3       51281\n",
       "4       53242\n",
       "5       87961\n",
       "6      290493\n",
       "7      891054\n",
       "8     1718118\n",
       "9     2454203\n",
       "10    2761760\n",
       "11    2736140\n",
       "12    2618532\n",
       "13    2660954\n",
       "14    2689136\n",
       "15    2662144\n",
       "16    2535202\n",
       "17    2087654\n",
       "18    1636502\n",
       "19    1258305\n",
       "20     976156\n",
       "21     795637\n",
       "22     634225\n",
       "23     402316\n",
       "Name: orders_time_of_day, dtype: int64"
      ]
     },
     "execution_count": 109,
     "metadata": {},
     "output_type": "execute_result"
    }
   ],
   "source": [
    "df_final['orders_time_of_day'].value_counts().sort_index()"
   ]
  },
  {
   "cell_type": "code",
   "execution_count": 120,
   "id": "e89c52c7",
   "metadata": {},
   "outputs": [],
   "source": [
    "# Split 24 hours\n",
    "\n",
    "result = []\n",
    "\n",
    "for value in df_final['orders_time_of_day']:\n",
    "    if   (value <= 5):\n",
    "        result.append('Night')\n",
    "    elif (value > 5) and (value <= 12): \n",
    "        result.append('Morning')\n",
    "    elif (value > 12) and (value <= 17):\n",
    "        result.append('Afternoon')\n",
    "    elif (value > 17) and (value <= 21):\n",
    "        result.append('Evening')\n",
    "    elif (value > 21):\n",
    "        result.append('Night')   \n",
    "    else: \n",
    "        result.append('other')"
   ]
  },
  {
   "cell_type": "code",
   "execution_count": 121,
   "id": "875a641d",
   "metadata": {},
   "outputs": [
    {
     "data": {
      "text/plain": [
       "['Morning',\n",
       " 'Morning',\n",
       " 'Morning',\n",
       " 'Morning',\n",
       " 'Afternoon',\n",
       " 'Morning',\n",
       " 'Morning',\n",
       " 'Afternoon',\n",
       " 'Afternoon',\n",
       " 'Morning',\n",
       " 'Morning',\n",
       " 'Morning',\n",
       " 'Morning',\n",
       " 'Morning',\n",
       " 'Morning',\n",
       " 'Afternoon',\n",
       " 'Morning',\n",
       " 'Morning',\n",
       " 'Afternoon',\n",
       " 'Afternoon',\n",
       " 'Morning',\n",
       " 'Morning',\n",
       " 'Morning',\n",
       " 'Morning',\n",
       " 'Morning',\n",
       " 'Morning',\n",
       " 'Morning',\n",
       " 'Morning',\n",
       " 'Afternoon',\n",
       " 'Morning',\n",
       " 'Morning',\n",
       " 'Afternoon',\n",
       " 'Afternoon',\n",
       " 'Morning',\n",
       " 'Morning',\n",
       " 'Afternoon',\n",
       " 'Morning',\n",
       " 'Morning',\n",
       " 'Morning',\n",
       " 'Morning',\n",
       " 'Morning',\n",
       " 'Afternoon',\n",
       " 'Morning',\n",
       " 'Morning',\n",
       " 'Afternoon',\n",
       " 'Afternoon',\n",
       " 'Morning',\n",
       " 'Morning',\n",
       " 'Afternoon',\n",
       " 'Afternoon',\n",
       " 'Afternoon',\n",
       " 'Afternoon',\n",
       " 'Afternoon',\n",
       " 'Morning',\n",
       " 'Afternoon',\n",
       " 'Afternoon',\n",
       " 'Morning',\n",
       " 'Morning',\n",
       " 'Morning',\n",
       " 'Morning',\n",
       " 'Afternoon',\n",
       " 'Morning',\n",
       " 'Morning',\n",
       " 'Morning',\n",
       " 'Afternoon',\n",
       " 'Morning',\n",
       " 'Morning',\n",
       " 'Afternoon',\n",
       " 'Morning',\n",
       " 'Morning',\n",
       " 'Morning',\n",
       " 'Afternoon',\n",
       " 'Morning',\n",
       " 'Afternoon',\n",
       " 'Afternoon',\n",
       " 'Morning',\n",
       " 'Morning',\n",
       " 'Morning',\n",
       " 'Afternoon',\n",
       " 'Morning',\n",
       " 'Morning',\n",
       " 'Morning',\n",
       " 'Afternoon',\n",
       " 'Morning',\n",
       " 'Afternoon',\n",
       " 'Morning',\n",
       " 'Afternoon',\n",
       " 'Morning',\n",
       " 'Morning',\n",
       " 'Morning',\n",
       " 'Afternoon',\n",
       " 'Morning',\n",
       " 'Afternoon',\n",
       " 'Morning',\n",
       " 'Morning',\n",
       " 'Afternoon',\n",
       " 'Morning',\n",
       " 'Afternoon',\n",
       " 'Morning',\n",
       " 'Morning',\n",
       " 'Morning',\n",
       " 'Afternoon',\n",
       " 'Afternoon',\n",
       " 'Morning',\n",
       " 'Afternoon',\n",
       " 'Morning',\n",
       " 'Morning',\n",
       " 'Morning',\n",
       " 'Morning',\n",
       " 'Morning',\n",
       " 'Afternoon',\n",
       " 'Morning',\n",
       " 'Morning',\n",
       " 'Morning',\n",
       " 'Morning',\n",
       " 'Morning',\n",
       " 'Morning',\n",
       " 'Morning',\n",
       " 'Morning',\n",
       " 'Morning',\n",
       " 'Afternoon',\n",
       " 'Afternoon',\n",
       " 'Morning',\n",
       " 'Morning',\n",
       " 'Morning',\n",
       " 'Morning',\n",
       " 'Afternoon',\n",
       " 'Morning',\n",
       " 'Morning',\n",
       " 'Morning',\n",
       " 'Morning',\n",
       " 'Afternoon',\n",
       " 'Morning',\n",
       " 'Afternoon',\n",
       " 'Afternoon',\n",
       " 'Afternoon',\n",
       " 'Afternoon',\n",
       " 'Morning',\n",
       " 'Afternoon',\n",
       " 'Afternoon',\n",
       " 'Night',\n",
       " 'Afternoon',\n",
       " 'Afternoon',\n",
       " 'Afternoon',\n",
       " 'Morning',\n",
       " 'Afternoon',\n",
       " 'Afternoon',\n",
       " 'Afternoon',\n",
       " 'Afternoon',\n",
       " 'Afternoon',\n",
       " 'Morning',\n",
       " 'Morning',\n",
       " 'Afternoon',\n",
       " 'Morning',\n",
       " 'Afternoon',\n",
       " 'Afternoon',\n",
       " 'Afternoon',\n",
       " 'Afternoon',\n",
       " 'Afternoon',\n",
       " 'Afternoon',\n",
       " 'Afternoon',\n",
       " 'Afternoon',\n",
       " 'Afternoon',\n",
       " 'Afternoon',\n",
       " 'Afternoon',\n",
       " 'Afternoon',\n",
       " 'Afternoon',\n",
       " 'Afternoon',\n",
       " 'Afternoon',\n",
       " 'Afternoon',\n",
       " 'Morning',\n",
       " 'Afternoon',\n",
       " 'Afternoon',\n",
       " 'Night',\n",
       " 'Afternoon',\n",
       " 'Afternoon',\n",
       " 'Afternoon',\n",
       " 'Morning',\n",
       " 'Afternoon',\n",
       " 'Afternoon',\n",
       " 'Morning',\n",
       " 'Afternoon',\n",
       " 'Afternoon',\n",
       " 'Afternoon',\n",
       " 'Morning',\n",
       " 'Afternoon',\n",
       " 'Afternoon',\n",
       " 'Afternoon',\n",
       " 'Afternoon',\n",
       " 'Afternoon',\n",
       " 'Morning',\n",
       " 'Afternoon',\n",
       " 'Afternoon',\n",
       " 'Afternoon',\n",
       " 'Afternoon',\n",
       " 'Morning',\n",
       " 'Morning',\n",
       " 'Afternoon',\n",
       " 'Afternoon',\n",
       " 'Morning',\n",
       " 'Afternoon',\n",
       " 'Morning',\n",
       " 'Afternoon',\n",
       " 'Morning',\n",
       " 'Morning',\n",
       " 'Afternoon',\n",
       " 'Morning',\n",
       " 'Afternoon',\n",
       " 'Afternoon',\n",
       " 'Afternoon',\n",
       " 'Morning',\n",
       " 'Afternoon',\n",
       " 'Afternoon',\n",
       " 'Afternoon',\n",
       " 'Afternoon',\n",
       " 'Morning',\n",
       " 'Afternoon',\n",
       " 'Morning',\n",
       " 'Afternoon',\n",
       " 'Morning',\n",
       " 'Afternoon',\n",
       " 'Afternoon',\n",
       " 'Afternoon',\n",
       " 'Morning',\n",
       " 'Afternoon',\n",
       " 'Afternoon',\n",
       " 'Afternoon',\n",
       " 'Morning',\n",
       " 'Afternoon',\n",
       " 'Afternoon',\n",
       " 'Morning',\n",
       " 'Afternoon',\n",
       " 'Afternoon',\n",
       " 'Morning',\n",
       " 'Afternoon',\n",
       " 'Afternoon',\n",
       " 'Morning',\n",
       " 'Afternoon',\n",
       " 'Morning',\n",
       " 'Afternoon',\n",
       " 'Morning',\n",
       " 'Afternoon',\n",
       " 'Morning',\n",
       " 'Morning',\n",
       " 'Afternoon',\n",
       " 'Afternoon',\n",
       " 'Afternoon',\n",
       " 'Morning',\n",
       " 'Afternoon',\n",
       " 'Afternoon',\n",
       " 'Morning',\n",
       " 'Afternoon',\n",
       " 'Afternoon',\n",
       " 'Morning',\n",
       " 'Morning',\n",
       " 'Morning',\n",
       " 'Morning',\n",
       " 'Morning',\n",
       " 'Afternoon',\n",
       " 'Morning',\n",
       " 'Morning',\n",
       " 'Afternoon',\n",
       " 'Morning',\n",
       " 'Morning',\n",
       " 'Afternoon',\n",
       " 'Morning',\n",
       " 'Morning',\n",
       " 'Morning',\n",
       " 'Morning',\n",
       " 'Morning',\n",
       " 'Morning',\n",
       " 'Morning',\n",
       " 'Morning',\n",
       " 'Morning',\n",
       " 'Morning',\n",
       " 'Morning',\n",
       " 'Morning',\n",
       " 'Afternoon',\n",
       " 'Morning',\n",
       " 'Afternoon',\n",
       " 'Afternoon',\n",
       " 'Afternoon',\n",
       " 'Afternoon',\n",
       " 'Afternoon',\n",
       " 'Afternoon',\n",
       " 'Afternoon',\n",
       " 'Afternoon',\n",
       " 'Afternoon',\n",
       " 'Afternoon',\n",
       " 'Night',\n",
       " 'Afternoon',\n",
       " 'Afternoon',\n",
       " 'Afternoon',\n",
       " 'Afternoon',\n",
       " 'Afternoon',\n",
       " 'Afternoon',\n",
       " 'Afternoon',\n",
       " 'Afternoon',\n",
       " 'Afternoon',\n",
       " 'Afternoon',\n",
       " 'Afternoon',\n",
       " 'Afternoon',\n",
       " 'Afternoon',\n",
       " 'Afternoon',\n",
       " 'Afternoon',\n",
       " 'Afternoon',\n",
       " 'Afternoon',\n",
       " 'Afternoon',\n",
       " 'Afternoon',\n",
       " 'Afternoon',\n",
       " 'Afternoon',\n",
       " 'Afternoon',\n",
       " 'Afternoon',\n",
       " 'Afternoon',\n",
       " 'Afternoon',\n",
       " 'Afternoon',\n",
       " 'Afternoon',\n",
       " 'Afternoon',\n",
       " 'Night',\n",
       " 'Night',\n",
       " 'Afternoon',\n",
       " 'Afternoon',\n",
       " 'Afternoon',\n",
       " 'Afternoon',\n",
       " 'Afternoon',\n",
       " 'Afternoon',\n",
       " 'Afternoon',\n",
       " 'Afternoon',\n",
       " 'Afternoon',\n",
       " 'Afternoon',\n",
       " 'Afternoon',\n",
       " 'Afternoon',\n",
       " 'Afternoon',\n",
       " 'Afternoon',\n",
       " 'Afternoon',\n",
       " 'Morning',\n",
       " 'Morning',\n",
       " 'Morning',\n",
       " 'Morning',\n",
       " 'Morning',\n",
       " 'Morning',\n",
       " 'Afternoon',\n",
       " 'Morning',\n",
       " 'Morning',\n",
       " 'Morning',\n",
       " 'Afternoon',\n",
       " 'Afternoon',\n",
       " 'Afternoon',\n",
       " 'Morning',\n",
       " 'Morning',\n",
       " 'Afternoon',\n",
       " 'Afternoon',\n",
       " 'Morning',\n",
       " 'Morning',\n",
       " 'Afternoon',\n",
       " 'Morning',\n",
       " 'Afternoon',\n",
       " 'Morning',\n",
       " 'Morning',\n",
       " 'Morning',\n",
       " 'Morning',\n",
       " 'Morning',\n",
       " 'Morning',\n",
       " 'Morning',\n",
       " 'Morning',\n",
       " 'Morning',\n",
       " 'Morning',\n",
       " 'Morning',\n",
       " 'Afternoon',\n",
       " 'Afternoon',\n",
       " 'Morning',\n",
       " 'Morning',\n",
       " 'Morning',\n",
       " 'Morning',\n",
       " 'Morning',\n",
       " 'Morning',\n",
       " 'Morning',\n",
       " 'Afternoon',\n",
       " 'Morning',\n",
       " 'Morning',\n",
       " 'Morning',\n",
       " 'Morning',\n",
       " 'Morning',\n",
       " 'Morning',\n",
       " 'Morning',\n",
       " 'Morning',\n",
       " 'Afternoon',\n",
       " 'Morning',\n",
       " 'Morning',\n",
       " 'Morning',\n",
       " 'Morning',\n",
       " 'Morning',\n",
       " 'Morning',\n",
       " 'Morning',\n",
       " 'Morning',\n",
       " 'Morning',\n",
       " 'Morning',\n",
       " 'Afternoon',\n",
       " 'Afternoon',\n",
       " 'Morning',\n",
       " 'Morning',\n",
       " 'Afternoon',\n",
       " 'Afternoon',\n",
       " 'Afternoon',\n",
       " 'Morning',\n",
       " 'Afternoon',\n",
       " 'Afternoon',\n",
       " 'Afternoon',\n",
       " 'Morning',\n",
       " 'Morning',\n",
       " 'Morning',\n",
       " 'Morning',\n",
       " 'Morning',\n",
       " 'Morning',\n",
       " 'Morning',\n",
       " 'Morning',\n",
       " 'Afternoon',\n",
       " 'Morning',\n",
       " 'Morning',\n",
       " 'Morning',\n",
       " 'Morning',\n",
       " 'Afternoon',\n",
       " 'Afternoon',\n",
       " 'Afternoon',\n",
       " 'Afternoon',\n",
       " 'Morning',\n",
       " 'Afternoon',\n",
       " 'Morning',\n",
       " 'Morning',\n",
       " 'Morning',\n",
       " 'Morning',\n",
       " 'Afternoon',\n",
       " 'Morning',\n",
       " 'Morning',\n",
       " 'Morning',\n",
       " 'Afternoon',\n",
       " 'Morning',\n",
       " 'Morning',\n",
       " 'Morning',\n",
       " 'Afternoon',\n",
       " 'Afternoon',\n",
       " 'Morning',\n",
       " 'Morning',\n",
       " 'Afternoon',\n",
       " 'Afternoon',\n",
       " 'Afternoon',\n",
       " 'Afternoon',\n",
       " 'Afternoon',\n",
       " 'Afternoon',\n",
       " 'Morning',\n",
       " 'Morning',\n",
       " 'Morning',\n",
       " 'Morning',\n",
       " 'Afternoon',\n",
       " 'Afternoon',\n",
       " 'Afternoon',\n",
       " 'Afternoon',\n",
       " 'Afternoon',\n",
       " 'Morning',\n",
       " 'Afternoon',\n",
       " 'Morning',\n",
       " 'Morning',\n",
       " 'Morning',\n",
       " 'Morning',\n",
       " 'Morning',\n",
       " 'Morning',\n",
       " 'Morning',\n",
       " 'Afternoon',\n",
       " 'Afternoon',\n",
       " 'Afternoon',\n",
       " 'Morning',\n",
       " 'Morning',\n",
       " 'Morning',\n",
       " 'Morning',\n",
       " 'Morning',\n",
       " 'Morning',\n",
       " 'Morning',\n",
       " 'Morning',\n",
       " 'Morning',\n",
       " 'Afternoon',\n",
       " 'Morning',\n",
       " 'Morning',\n",
       " 'Morning',\n",
       " 'Afternoon',\n",
       " 'Morning',\n",
       " 'Morning',\n",
       " 'Morning',\n",
       " 'Afternoon',\n",
       " 'Morning',\n",
       " 'Morning',\n",
       " 'Morning',\n",
       " 'Morning',\n",
       " 'Morning',\n",
       " 'Morning',\n",
       " 'Afternoon',\n",
       " 'Morning',\n",
       " 'Morning',\n",
       " 'Morning',\n",
       " 'Morning',\n",
       " 'Morning',\n",
       " 'Morning',\n",
       " 'Morning',\n",
       " 'Afternoon',\n",
       " 'Afternoon',\n",
       " 'Morning',\n",
       " 'Morning',\n",
       " 'Morning',\n",
       " 'Morning',\n",
       " 'Morning',\n",
       " 'Morning',\n",
       " 'Morning',\n",
       " 'Morning',\n",
       " 'Morning',\n",
       " 'Morning',\n",
       " 'Morning',\n",
       " 'Morning',\n",
       " 'Morning',\n",
       " 'Morning',\n",
       " 'Morning',\n",
       " 'Morning',\n",
       " 'Morning',\n",
       " 'Morning',\n",
       " 'Morning',\n",
       " 'Morning',\n",
       " 'Morning',\n",
       " 'Afternoon',\n",
       " 'Afternoon',\n",
       " 'Morning',\n",
       " 'Morning',\n",
       " 'Afternoon',\n",
       " 'Afternoon',\n",
       " 'Afternoon',\n",
       " 'Afternoon',\n",
       " 'Morning',\n",
       " 'Morning',\n",
       " 'Morning',\n",
       " 'Morning',\n",
       " 'Morning',\n",
       " 'Morning',\n",
       " 'Morning',\n",
       " 'Morning',\n",
       " 'Morning',\n",
       " 'Morning',\n",
       " 'Afternoon',\n",
       " 'Morning',\n",
       " 'Afternoon',\n",
       " 'Afternoon',\n",
       " 'Morning',\n",
       " 'Morning',\n",
       " 'Morning',\n",
       " 'Morning',\n",
       " 'Morning',\n",
       " 'Afternoon',\n",
       " 'Afternoon',\n",
       " 'Morning',\n",
       " 'Morning',\n",
       " 'Morning',\n",
       " 'Morning',\n",
       " 'Morning',\n",
       " 'Morning',\n",
       " 'Morning',\n",
       " 'Morning',\n",
       " 'Morning',\n",
       " 'Morning',\n",
       " 'Morning',\n",
       " 'Afternoon',\n",
       " 'Morning',\n",
       " 'Morning',\n",
       " 'Afternoon',\n",
       " 'Morning',\n",
       " 'Morning',\n",
       " 'Morning',\n",
       " 'Morning',\n",
       " 'Morning',\n",
       " 'Afternoon',\n",
       " 'Morning',\n",
       " 'Morning',\n",
       " 'Morning',\n",
       " 'Morning',\n",
       " 'Morning',\n",
       " 'Morning',\n",
       " 'Morning',\n",
       " 'Morning',\n",
       " 'Morning',\n",
       " 'Morning',\n",
       " 'Morning',\n",
       " 'Morning',\n",
       " 'Morning',\n",
       " 'Morning',\n",
       " 'Morning',\n",
       " 'Morning',\n",
       " 'Morning',\n",
       " 'Afternoon',\n",
       " 'Morning',\n",
       " 'Morning',\n",
       " 'Morning',\n",
       " 'Morning',\n",
       " 'Morning',\n",
       " 'Morning',\n",
       " 'Afternoon',\n",
       " 'Morning',\n",
       " 'Morning',\n",
       " 'Morning',\n",
       " 'Morning',\n",
       " 'Morning',\n",
       " 'Morning',\n",
       " 'Afternoon',\n",
       " 'Morning',\n",
       " 'Morning',\n",
       " 'Morning',\n",
       " 'Morning',\n",
       " 'Morning',\n",
       " 'Morning',\n",
       " 'Morning',\n",
       " 'Morning',\n",
       " 'Morning',\n",
       " 'Afternoon',\n",
       " 'Morning',\n",
       " 'Morning',\n",
       " 'Morning',\n",
       " 'Morning',\n",
       " 'Morning',\n",
       " 'Morning',\n",
       " 'Morning',\n",
       " 'Morning',\n",
       " 'Morning',\n",
       " 'Afternoon',\n",
       " 'Morning',\n",
       " 'Morning',\n",
       " 'Afternoon',\n",
       " 'Morning',\n",
       " 'Morning',\n",
       " 'Morning',\n",
       " 'Morning',\n",
       " 'Morning',\n",
       " 'Morning',\n",
       " 'Morning',\n",
       " 'Morning',\n",
       " 'Morning',\n",
       " 'Morning',\n",
       " 'Morning',\n",
       " 'Morning',\n",
       " 'Morning',\n",
       " 'Morning',\n",
       " 'Morning',\n",
       " 'Morning',\n",
       " 'Morning',\n",
       " 'Morning',\n",
       " 'Afternoon',\n",
       " 'Morning',\n",
       " 'Afternoon',\n",
       " 'Afternoon',\n",
       " 'Morning',\n",
       " 'Morning',\n",
       " 'Morning',\n",
       " 'Morning',\n",
       " 'Morning',\n",
       " 'Afternoon',\n",
       " 'Morning',\n",
       " 'Morning',\n",
       " 'Afternoon',\n",
       " 'Morning',\n",
       " 'Morning',\n",
       " 'Afternoon',\n",
       " 'Afternoon',\n",
       " 'Morning',\n",
       " 'Morning',\n",
       " 'Afternoon',\n",
       " 'Morning',\n",
       " 'Afternoon',\n",
       " 'Morning',\n",
       " 'Afternoon',\n",
       " 'Morning',\n",
       " 'Afternoon',\n",
       " 'Afternoon',\n",
       " 'Morning',\n",
       " 'Afternoon',\n",
       " 'Afternoon',\n",
       " 'Morning',\n",
       " 'Morning',\n",
       " 'Morning',\n",
       " 'Morning',\n",
       " 'Morning',\n",
       " 'Afternoon',\n",
       " 'Afternoon',\n",
       " 'Afternoon',\n",
       " 'Afternoon',\n",
       " 'Afternoon',\n",
       " 'Afternoon',\n",
       " 'Morning',\n",
       " 'Morning',\n",
       " 'Morning',\n",
       " 'Morning',\n",
       " 'Morning',\n",
       " 'Morning',\n",
       " 'Morning',\n",
       " 'Morning',\n",
       " 'Morning',\n",
       " 'Morning',\n",
       " 'Morning',\n",
       " 'Morning',\n",
       " 'Morning',\n",
       " 'Morning',\n",
       " 'Morning',\n",
       " 'Morning',\n",
       " 'Morning',\n",
       " 'Morning',\n",
       " 'Morning',\n",
       " 'Morning',\n",
       " 'Morning',\n",
       " 'Morning',\n",
       " 'Morning',\n",
       " 'Morning',\n",
       " 'Morning',\n",
       " 'Morning',\n",
       " 'Morning',\n",
       " 'Morning',\n",
       " 'Morning',\n",
       " 'Morning',\n",
       " 'Morning',\n",
       " 'Morning',\n",
       " 'Morning',\n",
       " 'Morning',\n",
       " 'Morning',\n",
       " 'Morning',\n",
       " 'Morning',\n",
       " 'Morning',\n",
       " 'Morning',\n",
       " 'Morning',\n",
       " 'Morning',\n",
       " 'Morning',\n",
       " 'Morning',\n",
       " 'Morning',\n",
       " 'Morning',\n",
       " 'Morning',\n",
       " 'Morning',\n",
       " 'Morning',\n",
       " 'Morning',\n",
       " 'Morning',\n",
       " 'Morning',\n",
       " 'Morning',\n",
       " 'Morning',\n",
       " 'Morning',\n",
       " 'Morning',\n",
       " 'Morning',\n",
       " 'Morning',\n",
       " 'Morning',\n",
       " 'Morning',\n",
       " 'Morning',\n",
       " 'Morning',\n",
       " 'Morning',\n",
       " 'Morning',\n",
       " 'Morning',\n",
       " 'Morning',\n",
       " 'Morning',\n",
       " 'Morning',\n",
       " 'Morning',\n",
       " 'Morning',\n",
       " 'Morning',\n",
       " 'Afternoon',\n",
       " 'Morning',\n",
       " 'Morning',\n",
       " 'Morning',\n",
       " 'Morning',\n",
       " 'Morning',\n",
       " 'Morning',\n",
       " 'Morning',\n",
       " 'Morning',\n",
       " 'Morning',\n",
       " 'Morning',\n",
       " 'Morning',\n",
       " 'Morning',\n",
       " 'Morning',\n",
       " 'Morning',\n",
       " 'Morning',\n",
       " 'Morning',\n",
       " 'Morning',\n",
       " 'Morning',\n",
       " 'Afternoon',\n",
       " 'Morning',\n",
       " 'Morning',\n",
       " 'Morning',\n",
       " 'Morning',\n",
       " 'Afternoon',\n",
       " 'Morning',\n",
       " 'Morning',\n",
       " 'Morning',\n",
       " 'Morning',\n",
       " 'Morning',\n",
       " 'Afternoon',\n",
       " 'Afternoon',\n",
       " 'Morning',\n",
       " 'Morning',\n",
       " 'Afternoon',\n",
       " 'Morning',\n",
       " 'Morning',\n",
       " 'Morning',\n",
       " 'Morning',\n",
       " 'Morning',\n",
       " 'Morning',\n",
       " 'Morning',\n",
       " 'Morning',\n",
       " 'Morning',\n",
       " 'Morning',\n",
       " 'Morning',\n",
       " 'Morning',\n",
       " 'Morning',\n",
       " 'Morning',\n",
       " 'Morning',\n",
       " 'Afternoon',\n",
       " 'Morning',\n",
       " 'Morning',\n",
       " 'Morning',\n",
       " 'Morning',\n",
       " 'Morning',\n",
       " 'Morning',\n",
       " 'Morning',\n",
       " 'Afternoon',\n",
       " 'Afternoon',\n",
       " 'Afternoon',\n",
       " 'Afternoon',\n",
       " 'Afternoon',\n",
       " 'Afternoon',\n",
       " 'Afternoon',\n",
       " 'Afternoon',\n",
       " 'Afternoon',\n",
       " 'Afternoon',\n",
       " 'Afternoon',\n",
       " 'Afternoon',\n",
       " 'Afternoon',\n",
       " 'Afternoon',\n",
       " 'Afternoon',\n",
       " 'Afternoon',\n",
       " 'Afternoon',\n",
       " 'Afternoon',\n",
       " 'Afternoon',\n",
       " 'Afternoon',\n",
       " 'Afternoon',\n",
       " 'Afternoon',\n",
       " 'Afternoon',\n",
       " 'Morning',\n",
       " 'Evening',\n",
       " 'Morning',\n",
       " 'Afternoon',\n",
       " 'Evening',\n",
       " 'Morning',\n",
       " 'Afternoon',\n",
       " 'Afternoon',\n",
       " 'Morning',\n",
       " 'Afternoon',\n",
       " 'Afternoon',\n",
       " 'Morning',\n",
       " 'Afternoon',\n",
       " 'Morning',\n",
       " 'Afternoon',\n",
       " 'Afternoon',\n",
       " 'Afternoon',\n",
       " 'Afternoon',\n",
       " 'Afternoon',\n",
       " 'Afternoon',\n",
       " 'Evening',\n",
       " 'Morning',\n",
       " 'Evening',\n",
       " 'Evening',\n",
       " 'Morning',\n",
       " 'Morning',\n",
       " 'Evening',\n",
       " 'Evening',\n",
       " 'Afternoon',\n",
       " 'Morning',\n",
       " 'Afternoon',\n",
       " 'Morning',\n",
       " 'Afternoon',\n",
       " 'Morning',\n",
       " 'Morning',\n",
       " 'Afternoon',\n",
       " 'Morning',\n",
       " 'Evening',\n",
       " 'Evening',\n",
       " 'Afternoon',\n",
       " 'Evening',\n",
       " 'Afternoon',\n",
       " 'Morning',\n",
       " 'Morning',\n",
       " 'Afternoon',\n",
       " 'Evening',\n",
       " 'Evening',\n",
       " 'Morning',\n",
       " 'Evening',\n",
       " 'Evening',\n",
       " 'Afternoon',\n",
       " 'Afternoon',\n",
       " 'Evening',\n",
       " 'Evening',\n",
       " 'Afternoon',\n",
       " 'Afternoon',\n",
       " 'Morning',\n",
       " 'Evening',\n",
       " 'Evening',\n",
       " 'Afternoon',\n",
       " 'Morning',\n",
       " 'Afternoon',\n",
       " 'Morning',\n",
       " 'Evening',\n",
       " 'Afternoon',\n",
       " 'Evening',\n",
       " 'Evening',\n",
       " 'Morning',\n",
       " 'Afternoon',\n",
       " 'Morning',\n",
       " 'Afternoon',\n",
       " 'Morning',\n",
       " 'Afternoon',\n",
       " 'Afternoon',\n",
       " 'Afternoon',\n",
       " 'Morning',\n",
       " 'Afternoon',\n",
       " 'Morning',\n",
       " 'Morning',\n",
       " 'Morning',\n",
       " 'Morning',\n",
       " 'Morning',\n",
       " 'Afternoon',\n",
       " 'Evening',\n",
       " 'Evening',\n",
       " 'Evening',\n",
       " 'Evening',\n",
       " 'Evening',\n",
       " 'Afternoon',\n",
       " 'Evening',\n",
       " 'Evening',\n",
       " 'Evening',\n",
       " 'Evening',\n",
       " 'Afternoon',\n",
       " 'Morning',\n",
       " 'Afternoon',\n",
       " 'Afternoon',\n",
       " 'Morning',\n",
       " 'Morning',\n",
       " 'Afternoon',\n",
       " 'Afternoon',\n",
       " 'Afternoon',\n",
       " 'Afternoon',\n",
       " 'Afternoon',\n",
       " 'Afternoon',\n",
       " 'Afternoon',\n",
       " 'Afternoon',\n",
       " 'Afternoon',\n",
       " 'Morning',\n",
       " 'Afternoon',\n",
       " 'Morning',\n",
       " 'Morning',\n",
       " 'Morning',\n",
       " 'Afternoon',\n",
       " 'Morning',\n",
       " 'Afternoon',\n",
       " 'Afternoon',\n",
       " 'Morning',\n",
       " 'Afternoon',\n",
       " 'Afternoon',\n",
       " 'Afternoon',\n",
       " 'Afternoon',\n",
       " 'Afternoon',\n",
       " 'Afternoon',\n",
       " 'Morning',\n",
       " 'Afternoon',\n",
       " 'Morning',\n",
       " 'Afternoon',\n",
       " 'Afternoon',\n",
       " 'Morning',\n",
       " 'Afternoon',\n",
       " 'Morning',\n",
       " 'Morning',\n",
       " 'Morning',\n",
       " 'Morning',\n",
       " 'Morning',\n",
       " 'Morning',\n",
       " 'Morning',\n",
       " 'Morning',\n",
       " 'Morning',\n",
       " 'Morning',\n",
       " 'Morning',\n",
       " 'Morning',\n",
       " 'Morning',\n",
       " 'Morning',\n",
       " 'Morning',\n",
       " 'Morning',\n",
       " 'Morning',\n",
       " 'Morning',\n",
       " 'Morning',\n",
       " 'Morning',\n",
       " 'Morning',\n",
       " 'Morning',\n",
       " 'Morning',\n",
       " 'Afternoon',\n",
       " 'Morning',\n",
       " 'Morning',\n",
       " 'Morning',\n",
       " 'Morning',\n",
       " 'Morning',\n",
       " ...]"
      ]
     },
     "execution_count": 121,
     "metadata": {},
     "output_type": "execute_result"
    }
   ],
   "source": [
    "result"
   ]
  },
  {
   "cell_type": "code",
   "execution_count": 122,
   "id": "22552ca9",
   "metadata": {},
   "outputs": [],
   "source": [
    "# Create day column\n",
    "\n",
    "df_final['part_of_day'] = result"
   ]
  },
  {
   "cell_type": "code",
   "execution_count": 124,
   "id": "5c1be295",
   "metadata": {},
   "outputs": [
    {
     "data": {
      "text/plain": [
       "Morning      13470300\n",
       "Afternoon    12635090\n",
       "Evening       4666600\n",
       "Night         1632869\n",
       "Name: part_of_day, dtype: int64"
      ]
     },
     "execution_count": 124,
     "metadata": {},
     "output_type": "execute_result"
    }
   ],
   "source": [
    "# Print frequency\n",
    "\n",
    "df_final['part_of_day'].value_counts()"
   ]
  },
  {
   "cell_type": "code",
   "execution_count": 125,
   "id": "3a53f775",
   "metadata": {
    "scrolled": true
   },
   "outputs": [
    {
     "name": "stdout",
     "output_type": "stream",
     "text": [
      "<class 'pandas.core.frame.DataFrame'>\n",
      "Int64Index: 32404859 entries, 0 to 32404858\n",
      "Data columns (total 37 columns):\n",
      " #   Column                  Dtype   \n",
      "---  ------                  -----   \n",
      " 0   order_id                int32   \n",
      " 1   user_id                 int32   \n",
      " 2   order_number            int8    \n",
      " 3   orders_day_of_week      int8    \n",
      " 4   orders_time_of_day      int8    \n",
      " 5   days_since_prior_order  float16 \n",
      " 6   df_ords_first_order     bool    \n",
      " 7   product_id              int32   \n",
      " 8   add_to_cart_order       int16   \n",
      " 9   product_name            category\n",
      " 10  aisle_id                int16   \n",
      " 11  department_id           int16   \n",
      " 12  prices                  float16 \n",
      " 13  price_range_loc         category\n",
      " 14  busiest_days            category\n",
      " 15  busiest_period_of_day   category\n",
      " 16  max_order               int8    \n",
      " 17  loyalty_flag            category\n",
      " 18  spending                float32 \n",
      " 19  spending_flag           category\n",
      " 20  order_frequency         float32 \n",
      " 21  frequency_flag          category\n",
      " 22  gender                  category\n",
      " 23  state                   category\n",
      " 24  age                     int8    \n",
      " 25  date_joined             object  \n",
      " 26  dependants              int8    \n",
      " 27  marital_status          category\n",
      " 28  income                  int32   \n",
      " 29  region                  category\n",
      " 30  exclusion_flag          category\n",
      " 31  age_group               category\n",
      " 32  income_group            category\n",
      " 33  parental_status         category\n",
      " 34  weekday                 object  \n",
      " 35  day_of_week             object  \n",
      " 36  part_of_day             object  \n",
      "dtypes: bool(1), category(15), float16(2), float32(2), int16(3), int32(4), int8(6), object(4)\n",
      "memory usage: 9.8 GB\n"
     ]
    }
   ],
   "source": [
    "df_final.info(memory_usage=\"deep\")"
   ]
  },
  {
   "cell_type": "code",
   "execution_count": 127,
   "id": "d5f7a19a",
   "metadata": {},
   "outputs": [],
   "source": [
    "# Drop 'weekday' column as it was created by mistake\n",
    "\n",
    "#Convert data type for 'day_of_week' and 'part_of_day' columns to category\n",
    "\n",
    "df_final[['day_of_week', 'part_of_day',]] = df_final[['day_of_week', 'part_of_day']].astype('category')"
   ]
  },
  {
   "cell_type": "code",
   "execution_count": 128,
   "id": "99f9fe5b",
   "metadata": {},
   "outputs": [],
   "source": [
    "df_final = df_final.drop(columns = ['weekday'])"
   ]
  },
  {
   "cell_type": "code",
   "execution_count": 129,
   "id": "aa293b29",
   "metadata": {
    "scrolled": true
   },
   "outputs": [
    {
     "name": "stdout",
     "output_type": "stream",
     "text": [
      "<class 'pandas.core.frame.DataFrame'>\n",
      "Int64Index: 32404859 entries, 0 to 32404858\n",
      "Data columns (total 36 columns):\n",
      " #   Column                  Dtype   \n",
      "---  ------                  -----   \n",
      " 0   order_id                int32   \n",
      " 1   user_id                 int32   \n",
      " 2   order_number            int8    \n",
      " 3   orders_day_of_week      int8    \n",
      " 4   orders_time_of_day      int8    \n",
      " 5   days_since_prior_order  float16 \n",
      " 6   df_ords_first_order     bool    \n",
      " 7   product_id              int32   \n",
      " 8   add_to_cart_order       int16   \n",
      " 9   product_name            category\n",
      " 10  aisle_id                int16   \n",
      " 11  department_id           int16   \n",
      " 12  prices                  float16 \n",
      " 13  price_range_loc         category\n",
      " 14  busiest_days            category\n",
      " 15  busiest_period_of_day   category\n",
      " 16  max_order               int8    \n",
      " 17  loyalty_flag            category\n",
      " 18  spending                float32 \n",
      " 19  spending_flag           category\n",
      " 20  order_frequency         float32 \n",
      " 21  frequency_flag          category\n",
      " 22  gender                  category\n",
      " 23  state                   category\n",
      " 24  age                     int8    \n",
      " 25  date_joined             object  \n",
      " 26  dependants              int8    \n",
      " 27  marital_status          category\n",
      " 28  income                  int32   \n",
      " 29  region                  category\n",
      " 30  exclusion_flag          category\n",
      " 31  age_group               category\n",
      " 32  income_group            category\n",
      " 33  parental_status         category\n",
      " 34  day_of_week             category\n",
      " 35  part_of_day             category\n",
      "dtypes: bool(1), category(17), float16(2), float32(2), int16(3), int32(4), int8(6), object(1)\n",
      "memory usage: 4.1 GB\n"
     ]
    }
   ],
   "source": [
    "df_final.info(memory_usage=\"deep\")"
   ]
  },
  {
   "cell_type": "markdown",
   "id": "f387276c",
   "metadata": {},
   "source": [
    "### I will export this file and complete the remaining task on the next script"
   ]
  },
  {
   "cell_type": "code",
   "execution_count": 130,
   "id": "a665b66f",
   "metadata": {},
   "outputs": [],
   "source": [
    "df_final.to_pickle(os.path.join(path,'02 Data','Prepared Data','df_final.pkl'))"
   ]
  },
  {
   "cell_type": "code",
   "execution_count": null,
   "id": "7750c072",
   "metadata": {},
   "outputs": [],
   "source": []
  }
 ],
 "metadata": {
  "kernelspec": {
   "display_name": "Python 3 (ipykernel)",
   "language": "python",
   "name": "python3"
  },
  "language_info": {
   "codemirror_mode": {
    "name": "ipython",
    "version": 3
   },
   "file_extension": ".py",
   "mimetype": "text/x-python",
   "name": "python",
   "nbconvert_exporter": "python",
   "pygments_lexer": "ipython3",
   "version": "3.9.7"
  }
 },
 "nbformat": 4,
 "nbformat_minor": 5
}
