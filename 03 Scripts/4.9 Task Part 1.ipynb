{
 "cells": [
  {
   "cell_type": "markdown",
   "id": "17eb16be",
   "metadata": {},
   "source": [
    "# Part 1"
   ]
  },
  {
   "cell_type": "markdown",
   "id": "fee5dc45",
   "metadata": {},
   "source": [
    "### Q1. Download the customer data set and add it to your “Original Data” folder.\n",
    "### Q2. Create a new notebook in your “Scripts” folder for part 1 of this task.\n",
    "### Q3. Import your analysis libraries, as well as your new customer data set as a dataframe."
   ]
  },
  {
   "cell_type": "code",
   "execution_count": 1,
   "id": "e106f27f",
   "metadata": {},
   "outputs": [],
   "source": [
    "# Import analysis libraries\n",
    "\n",
    "import pandas as pd\n",
    "import numpy as np\n",
    "import os"
   ]
  },
  {
   "cell_type": "code",
   "execution_count": 2,
   "id": "b9355873",
   "metadata": {},
   "outputs": [],
   "source": [
    "# Import dataset\n",
    "\n",
    "path = r'C:\\Users\\Owner\\Desktop\\Data Analyst\\01-31-2022 Instacart Basket Analysis'"
   ]
  },
  {
   "cell_type": "code",
   "execution_count": 3,
   "id": "20c1a833",
   "metadata": {},
   "outputs": [],
   "source": [
    "df_customer = pd.read_csv(os.path.join(path, '02 Data', 'Original data', 'customers.csv'), index_col = False)"
   ]
  },
  {
   "cell_type": "markdown",
   "id": "59e779ff",
   "metadata": {},
   "source": [
    "### Q4: Wrangle the data so that it follows consistent logic; for example, rename columns with illogical names and drop columns that don’t add anything to your analysis."
   ]
  },
  {
   "cell_type": "code",
   "execution_count": 4,
   "id": "907a0635",
   "metadata": {},
   "outputs": [
    {
     "data": {
      "text/html": [
       "<div>\n",
       "<style scoped>\n",
       "    .dataframe tbody tr th:only-of-type {\n",
       "        vertical-align: middle;\n",
       "    }\n",
       "\n",
       "    .dataframe tbody tr th {\n",
       "        vertical-align: top;\n",
       "    }\n",
       "\n",
       "    .dataframe thead th {\n",
       "        text-align: right;\n",
       "    }\n",
       "</style>\n",
       "<table border=\"1\" class=\"dataframe\">\n",
       "  <thead>\n",
       "    <tr style=\"text-align: right;\">\n",
       "      <th></th>\n",
       "      <th>user_id</th>\n",
       "      <th>First Name</th>\n",
       "      <th>Surnam</th>\n",
       "      <th>Gender</th>\n",
       "      <th>STATE</th>\n",
       "      <th>Age</th>\n",
       "      <th>date_joined</th>\n",
       "      <th>n_dependants</th>\n",
       "      <th>fam_status</th>\n",
       "      <th>income</th>\n",
       "    </tr>\n",
       "  </thead>\n",
       "  <tbody>\n",
       "    <tr>\n",
       "      <th>0</th>\n",
       "      <td>26711</td>\n",
       "      <td>Deborah</td>\n",
       "      <td>Esquivel</td>\n",
       "      <td>Female</td>\n",
       "      <td>Missouri</td>\n",
       "      <td>48</td>\n",
       "      <td>1/1/2017</td>\n",
       "      <td>3</td>\n",
       "      <td>married</td>\n",
       "      <td>165665</td>\n",
       "    </tr>\n",
       "    <tr>\n",
       "      <th>1</th>\n",
       "      <td>33890</td>\n",
       "      <td>Patricia</td>\n",
       "      <td>Hart</td>\n",
       "      <td>Female</td>\n",
       "      <td>New Mexico</td>\n",
       "      <td>36</td>\n",
       "      <td>1/1/2017</td>\n",
       "      <td>0</td>\n",
       "      <td>single</td>\n",
       "      <td>59285</td>\n",
       "    </tr>\n",
       "    <tr>\n",
       "      <th>2</th>\n",
       "      <td>65803</td>\n",
       "      <td>Kenneth</td>\n",
       "      <td>Farley</td>\n",
       "      <td>Male</td>\n",
       "      <td>Idaho</td>\n",
       "      <td>35</td>\n",
       "      <td>1/1/2017</td>\n",
       "      <td>2</td>\n",
       "      <td>married</td>\n",
       "      <td>99568</td>\n",
       "    </tr>\n",
       "    <tr>\n",
       "      <th>3</th>\n",
       "      <td>125935</td>\n",
       "      <td>Michelle</td>\n",
       "      <td>Hicks</td>\n",
       "      <td>Female</td>\n",
       "      <td>Iowa</td>\n",
       "      <td>40</td>\n",
       "      <td>1/1/2017</td>\n",
       "      <td>0</td>\n",
       "      <td>single</td>\n",
       "      <td>42049</td>\n",
       "    </tr>\n",
       "    <tr>\n",
       "      <th>4</th>\n",
       "      <td>130797</td>\n",
       "      <td>Ann</td>\n",
       "      <td>Gilmore</td>\n",
       "      <td>Female</td>\n",
       "      <td>Maryland</td>\n",
       "      <td>26</td>\n",
       "      <td>1/1/2017</td>\n",
       "      <td>1</td>\n",
       "      <td>married</td>\n",
       "      <td>40374</td>\n",
       "    </tr>\n",
       "  </tbody>\n",
       "</table>\n",
       "</div>"
      ],
      "text/plain": [
       "   user_id First Name    Surnam  Gender       STATE  Age date_joined  \\\n",
       "0    26711    Deborah  Esquivel  Female    Missouri   48    1/1/2017   \n",
       "1    33890   Patricia      Hart  Female  New Mexico   36    1/1/2017   \n",
       "2    65803    Kenneth    Farley    Male       Idaho   35    1/1/2017   \n",
       "3   125935   Michelle     Hicks  Female        Iowa   40    1/1/2017   \n",
       "4   130797        Ann   Gilmore  Female    Maryland   26    1/1/2017   \n",
       "\n",
       "   n_dependants fam_status  income  \n",
       "0             3    married  165665  \n",
       "1             0     single   59285  \n",
       "2             2    married   99568  \n",
       "3             0     single   42049  \n",
       "4             1    married   40374  "
      ]
     },
     "execution_count": 4,
     "metadata": {},
     "output_type": "execute_result"
    }
   ],
   "source": [
    "df_customer.head()"
   ]
  },
  {
   "cell_type": "code",
   "execution_count": 5,
   "id": "18a135da",
   "metadata": {},
   "outputs": [
    {
     "data": {
      "text/plain": [
       "(206209, 10)"
      ]
     },
     "execution_count": 5,
     "metadata": {},
     "output_type": "execute_result"
    }
   ],
   "source": [
    "df_customer.shape"
   ]
  },
  {
   "cell_type": "markdown",
   "id": "4320fa57",
   "metadata": {},
   "source": [
    "#### Rename columns: 'First Name', 'surnam', 'STATE', 'n_dependants' and 'fam_status'"
   ]
  },
  {
   "cell_type": "code",
   "execution_count": 6,
   "id": "4ca75a9f",
   "metadata": {},
   "outputs": [],
   "source": [
    "df_customer.rename(columns = {'First Name' : 'first_name', 'Surnam' : 'surname', 'Gender' : 'gender', 'STATE' : 'state', 'Age' : 'age', 'n_dependants' : 'dependants', 'fam_status' : 'marital_status'}, inplace = True)"
   ]
  },
  {
   "cell_type": "code",
   "execution_count": 7,
   "id": "7fedeffa",
   "metadata": {
    "scrolled": true
   },
   "outputs": [
    {
     "data": {
      "text/plain": [
       "user_id            int64\n",
       "first_name        object\n",
       "surname           object\n",
       "gender            object\n",
       "state             object\n",
       "age                int64\n",
       "date_joined       object\n",
       "dependants         int64\n",
       "marital_status    object\n",
       "income             int64\n",
       "dtype: object"
      ]
     },
     "execution_count": 7,
     "metadata": {},
     "output_type": "execute_result"
    }
   ],
   "source": [
    "df_customer.dtypes"
   ]
  },
  {
   "cell_type": "code",
   "execution_count": 8,
   "id": "41764434",
   "metadata": {},
   "outputs": [
    {
     "name": "stdout",
     "output_type": "stream",
     "text": [
      "<class 'pandas.core.frame.DataFrame'>\n",
      "RangeIndex: 206209 entries, 0 to 206208\n",
      "Data columns (total 10 columns):\n",
      " #   Column          Non-Null Count   Dtype \n",
      "---  ------          --------------   ----- \n",
      " 0   user_id         206209 non-null  int64 \n",
      " 1   first_name      194950 non-null  object\n",
      " 2   surname         206209 non-null  object\n",
      " 3   gender          206209 non-null  object\n",
      " 4   state           206209 non-null  object\n",
      " 5   age             206209 non-null  int64 \n",
      " 6   date_joined     206209 non-null  object\n",
      " 7   dependants      206209 non-null  int64 \n",
      " 8   marital_status  206209 non-null  object\n",
      " 9   income          206209 non-null  int64 \n",
      "dtypes: int64(4), object(6)\n",
      "memory usage: 15.7+ MB\n"
     ]
    }
   ],
   "source": [
    "df_customer.info()"
   ]
  },
  {
   "cell_type": "markdown",
   "id": "c601653a",
   "metadata": {},
   "source": [
    "#### Change memory size for 'user_id', 'age', 'dependants', 'income'"
   ]
  },
  {
   "cell_type": "code",
   "execution_count": 9,
   "id": "e1f8f848",
   "metadata": {},
   "outputs": [],
   "source": [
    "df_customer = df_customer.astype({\"user_id\": 'int32', \"age\": 'int32', \"dependants\": 'int32', \"income\" : 'int32'})"
   ]
  },
  {
   "cell_type": "code",
   "execution_count": 10,
   "id": "3d69bd1e",
   "metadata": {},
   "outputs": [
    {
     "name": "stdout",
     "output_type": "stream",
     "text": [
      "<class 'pandas.core.frame.DataFrame'>\n",
      "RangeIndex: 206209 entries, 0 to 206208\n",
      "Data columns (total 10 columns):\n",
      " #   Column          Non-Null Count   Dtype \n",
      "---  ------          --------------   ----- \n",
      " 0   user_id         206209 non-null  int32 \n",
      " 1   first_name      194950 non-null  object\n",
      " 2   surname         206209 non-null  object\n",
      " 3   gender          206209 non-null  object\n",
      " 4   state           206209 non-null  object\n",
      " 5   age             206209 non-null  int32 \n",
      " 6   date_joined     206209 non-null  object\n",
      " 7   dependants      206209 non-null  int32 \n",
      " 8   marital_status  206209 non-null  object\n",
      " 9   income          206209 non-null  int32 \n",
      "dtypes: int32(4), object(6)\n",
      "memory usage: 12.6+ MB\n"
     ]
    }
   ],
   "source": [
    "df_customer.info()"
   ]
  },
  {
   "cell_type": "markdown",
   "id": "3541ea45",
   "metadata": {},
   "source": [
    "#### Drop column 'first_name' - I believe it will not be required in my analysis"
   ]
  },
  {
   "cell_type": "code",
   "execution_count": 11,
   "id": "14bb3358",
   "metadata": {},
   "outputs": [
    {
     "data": {
      "text/html": [
       "<div>\n",
       "<style scoped>\n",
       "    .dataframe tbody tr th:only-of-type {\n",
       "        vertical-align: middle;\n",
       "    }\n",
       "\n",
       "    .dataframe tbody tr th {\n",
       "        vertical-align: top;\n",
       "    }\n",
       "\n",
       "    .dataframe thead th {\n",
       "        text-align: right;\n",
       "    }\n",
       "</style>\n",
       "<table border=\"1\" class=\"dataframe\">\n",
       "  <thead>\n",
       "    <tr style=\"text-align: right;\">\n",
       "      <th></th>\n",
       "      <th>user_id</th>\n",
       "      <th>surname</th>\n",
       "      <th>gender</th>\n",
       "      <th>state</th>\n",
       "      <th>age</th>\n",
       "      <th>date_joined</th>\n",
       "      <th>dependants</th>\n",
       "      <th>marital_status</th>\n",
       "      <th>income</th>\n",
       "    </tr>\n",
       "  </thead>\n",
       "  <tbody>\n",
       "    <tr>\n",
       "      <th>0</th>\n",
       "      <td>26711</td>\n",
       "      <td>Esquivel</td>\n",
       "      <td>Female</td>\n",
       "      <td>Missouri</td>\n",
       "      <td>48</td>\n",
       "      <td>1/1/2017</td>\n",
       "      <td>3</td>\n",
       "      <td>married</td>\n",
       "      <td>165665</td>\n",
       "    </tr>\n",
       "    <tr>\n",
       "      <th>1</th>\n",
       "      <td>33890</td>\n",
       "      <td>Hart</td>\n",
       "      <td>Female</td>\n",
       "      <td>New Mexico</td>\n",
       "      <td>36</td>\n",
       "      <td>1/1/2017</td>\n",
       "      <td>0</td>\n",
       "      <td>single</td>\n",
       "      <td>59285</td>\n",
       "    </tr>\n",
       "    <tr>\n",
       "      <th>2</th>\n",
       "      <td>65803</td>\n",
       "      <td>Farley</td>\n",
       "      <td>Male</td>\n",
       "      <td>Idaho</td>\n",
       "      <td>35</td>\n",
       "      <td>1/1/2017</td>\n",
       "      <td>2</td>\n",
       "      <td>married</td>\n",
       "      <td>99568</td>\n",
       "    </tr>\n",
       "    <tr>\n",
       "      <th>3</th>\n",
       "      <td>125935</td>\n",
       "      <td>Hicks</td>\n",
       "      <td>Female</td>\n",
       "      <td>Iowa</td>\n",
       "      <td>40</td>\n",
       "      <td>1/1/2017</td>\n",
       "      <td>0</td>\n",
       "      <td>single</td>\n",
       "      <td>42049</td>\n",
       "    </tr>\n",
       "    <tr>\n",
       "      <th>4</th>\n",
       "      <td>130797</td>\n",
       "      <td>Gilmore</td>\n",
       "      <td>Female</td>\n",
       "      <td>Maryland</td>\n",
       "      <td>26</td>\n",
       "      <td>1/1/2017</td>\n",
       "      <td>1</td>\n",
       "      <td>married</td>\n",
       "      <td>40374</td>\n",
       "    </tr>\n",
       "    <tr>\n",
       "      <th>...</th>\n",
       "      <td>...</td>\n",
       "      <td>...</td>\n",
       "      <td>...</td>\n",
       "      <td>...</td>\n",
       "      <td>...</td>\n",
       "      <td>...</td>\n",
       "      <td>...</td>\n",
       "      <td>...</td>\n",
       "      <td>...</td>\n",
       "    </tr>\n",
       "    <tr>\n",
       "      <th>206204</th>\n",
       "      <td>168073</td>\n",
       "      <td>Case</td>\n",
       "      <td>Female</td>\n",
       "      <td>North Carolina</td>\n",
       "      <td>44</td>\n",
       "      <td>4/1/2020</td>\n",
       "      <td>1</td>\n",
       "      <td>married</td>\n",
       "      <td>148828</td>\n",
       "    </tr>\n",
       "    <tr>\n",
       "      <th>206205</th>\n",
       "      <td>49635</td>\n",
       "      <td>Robbins</td>\n",
       "      <td>Male</td>\n",
       "      <td>Hawaii</td>\n",
       "      <td>62</td>\n",
       "      <td>4/1/2020</td>\n",
       "      <td>3</td>\n",
       "      <td>married</td>\n",
       "      <td>168639</td>\n",
       "    </tr>\n",
       "    <tr>\n",
       "      <th>206206</th>\n",
       "      <td>135902</td>\n",
       "      <td>Richmond</td>\n",
       "      <td>Female</td>\n",
       "      <td>Missouri</td>\n",
       "      <td>66</td>\n",
       "      <td>4/1/2020</td>\n",
       "      <td>2</td>\n",
       "      <td>married</td>\n",
       "      <td>53374</td>\n",
       "    </tr>\n",
       "    <tr>\n",
       "      <th>206207</th>\n",
       "      <td>81095</td>\n",
       "      <td>Rollins</td>\n",
       "      <td>Female</td>\n",
       "      <td>California</td>\n",
       "      <td>27</td>\n",
       "      <td>4/1/2020</td>\n",
       "      <td>1</td>\n",
       "      <td>married</td>\n",
       "      <td>99799</td>\n",
       "    </tr>\n",
       "    <tr>\n",
       "      <th>206208</th>\n",
       "      <td>80148</td>\n",
       "      <td>Noble</td>\n",
       "      <td>Female</td>\n",
       "      <td>New York</td>\n",
       "      <td>55</td>\n",
       "      <td>4/1/2020</td>\n",
       "      <td>1</td>\n",
       "      <td>married</td>\n",
       "      <td>57095</td>\n",
       "    </tr>\n",
       "  </tbody>\n",
       "</table>\n",
       "<p>206209 rows × 9 columns</p>\n",
       "</div>"
      ],
      "text/plain": [
       "        user_id   surname  gender           state  age date_joined  \\\n",
       "0         26711  Esquivel  Female        Missouri   48    1/1/2017   \n",
       "1         33890      Hart  Female      New Mexico   36    1/1/2017   \n",
       "2         65803    Farley    Male           Idaho   35    1/1/2017   \n",
       "3        125935     Hicks  Female            Iowa   40    1/1/2017   \n",
       "4        130797   Gilmore  Female        Maryland   26    1/1/2017   \n",
       "...         ...       ...     ...             ...  ...         ...   \n",
       "206204   168073      Case  Female  North Carolina   44    4/1/2020   \n",
       "206205    49635   Robbins    Male          Hawaii   62    4/1/2020   \n",
       "206206   135902  Richmond  Female        Missouri   66    4/1/2020   \n",
       "206207    81095   Rollins  Female      California   27    4/1/2020   \n",
       "206208    80148     Noble  Female        New York   55    4/1/2020   \n",
       "\n",
       "        dependants marital_status  income  \n",
       "0                3        married  165665  \n",
       "1                0         single   59285  \n",
       "2                2        married   99568  \n",
       "3                0         single   42049  \n",
       "4                1        married   40374  \n",
       "...            ...            ...     ...  \n",
       "206204           1        married  148828  \n",
       "206205           3        married  168639  \n",
       "206206           2        married   53374  \n",
       "206207           1        married   99799  \n",
       "206208           1        married   57095  \n",
       "\n",
       "[206209 rows x 9 columns]"
      ]
     },
     "execution_count": 11,
     "metadata": {},
     "output_type": "execute_result"
    }
   ],
   "source": [
    "df_customer.drop(columns = ['first_name'])"
   ]
  },
  {
   "cell_type": "code",
   "execution_count": 12,
   "id": "8ad318eb",
   "metadata": {},
   "outputs": [],
   "source": [
    "df_customer = df_customer.drop(columns = ['first_name'])"
   ]
  },
  {
   "cell_type": "code",
   "execution_count": 13,
   "id": "421b10fc",
   "metadata": {},
   "outputs": [
    {
     "data": {
      "text/html": [
       "<div>\n",
       "<style scoped>\n",
       "    .dataframe tbody tr th:only-of-type {\n",
       "        vertical-align: middle;\n",
       "    }\n",
       "\n",
       "    .dataframe tbody tr th {\n",
       "        vertical-align: top;\n",
       "    }\n",
       "\n",
       "    .dataframe thead th {\n",
       "        text-align: right;\n",
       "    }\n",
       "</style>\n",
       "<table border=\"1\" class=\"dataframe\">\n",
       "  <thead>\n",
       "    <tr style=\"text-align: right;\">\n",
       "      <th></th>\n",
       "      <th>user_id</th>\n",
       "      <th>surname</th>\n",
       "      <th>gender</th>\n",
       "      <th>state</th>\n",
       "      <th>age</th>\n",
       "      <th>date_joined</th>\n",
       "      <th>dependants</th>\n",
       "      <th>marital_status</th>\n",
       "      <th>income</th>\n",
       "    </tr>\n",
       "  </thead>\n",
       "  <tbody>\n",
       "    <tr>\n",
       "      <th>0</th>\n",
       "      <td>26711</td>\n",
       "      <td>Esquivel</td>\n",
       "      <td>Female</td>\n",
       "      <td>Missouri</td>\n",
       "      <td>48</td>\n",
       "      <td>1/1/2017</td>\n",
       "      <td>3</td>\n",
       "      <td>married</td>\n",
       "      <td>165665</td>\n",
       "    </tr>\n",
       "    <tr>\n",
       "      <th>1</th>\n",
       "      <td>33890</td>\n",
       "      <td>Hart</td>\n",
       "      <td>Female</td>\n",
       "      <td>New Mexico</td>\n",
       "      <td>36</td>\n",
       "      <td>1/1/2017</td>\n",
       "      <td>0</td>\n",
       "      <td>single</td>\n",
       "      <td>59285</td>\n",
       "    </tr>\n",
       "    <tr>\n",
       "      <th>2</th>\n",
       "      <td>65803</td>\n",
       "      <td>Farley</td>\n",
       "      <td>Male</td>\n",
       "      <td>Idaho</td>\n",
       "      <td>35</td>\n",
       "      <td>1/1/2017</td>\n",
       "      <td>2</td>\n",
       "      <td>married</td>\n",
       "      <td>99568</td>\n",
       "    </tr>\n",
       "    <tr>\n",
       "      <th>3</th>\n",
       "      <td>125935</td>\n",
       "      <td>Hicks</td>\n",
       "      <td>Female</td>\n",
       "      <td>Iowa</td>\n",
       "      <td>40</td>\n",
       "      <td>1/1/2017</td>\n",
       "      <td>0</td>\n",
       "      <td>single</td>\n",
       "      <td>42049</td>\n",
       "    </tr>\n",
       "    <tr>\n",
       "      <th>4</th>\n",
       "      <td>130797</td>\n",
       "      <td>Gilmore</td>\n",
       "      <td>Female</td>\n",
       "      <td>Maryland</td>\n",
       "      <td>26</td>\n",
       "      <td>1/1/2017</td>\n",
       "      <td>1</td>\n",
       "      <td>married</td>\n",
       "      <td>40374</td>\n",
       "    </tr>\n",
       "  </tbody>\n",
       "</table>\n",
       "</div>"
      ],
      "text/plain": [
       "   user_id   surname  gender       state  age date_joined  dependants  \\\n",
       "0    26711  Esquivel  Female    Missouri   48    1/1/2017           3   \n",
       "1    33890      Hart  Female  New Mexico   36    1/1/2017           0   \n",
       "2    65803    Farley    Male       Idaho   35    1/1/2017           2   \n",
       "3   125935     Hicks  Female        Iowa   40    1/1/2017           0   \n",
       "4   130797   Gilmore  Female    Maryland   26    1/1/2017           1   \n",
       "\n",
       "  marital_status  income  \n",
       "0        married  165665  \n",
       "1         single   59285  \n",
       "2        married   99568  \n",
       "3         single   42049  \n",
       "4        married   40374  "
      ]
     },
     "execution_count": 13,
     "metadata": {},
     "output_type": "execute_result"
    }
   ],
   "source": [
    "df_customer.head()"
   ]
  },
  {
   "cell_type": "markdown",
   "id": "aad6e909",
   "metadata": {},
   "source": [
    "### Q5: Complete the fundamental data quality and consistency checks you’ve learned throughout this Achievement; for example, check for and address missing values and duplicates, and convert any mixed-type data."
   ]
  },
  {
   "cell_type": "markdown",
   "id": "ef77e96c",
   "metadata": {},
   "source": [
    "#### Address missing value"
   ]
  },
  {
   "cell_type": "code",
   "execution_count": 14,
   "id": "7d0833f6",
   "metadata": {},
   "outputs": [
    {
     "data": {
      "text/plain": [
       "user_id           0\n",
       "surname           0\n",
       "gender            0\n",
       "state             0\n",
       "age               0\n",
       "date_joined       0\n",
       "dependants        0\n",
       "marital_status    0\n",
       "income            0\n",
       "dtype: int64"
      ]
     },
     "execution_count": 14,
     "metadata": {},
     "output_type": "execute_result"
    }
   ],
   "source": [
    "df_customer.isnull().sum()"
   ]
  },
  {
   "cell_type": "markdown",
   "id": "db9df098",
   "metadata": {},
   "source": [
    "There are no missing values in this dataframe"
   ]
  },
  {
   "cell_type": "markdown",
   "id": "b6d389b2",
   "metadata": {},
   "source": [
    "#### Address duplicates"
   ]
  },
  {
   "cell_type": "code",
   "execution_count": 15,
   "id": "ff587a33",
   "metadata": {},
   "outputs": [],
   "source": [
    "df_dups = df_customer[df_customer.duplicated()]"
   ]
  },
  {
   "cell_type": "code",
   "execution_count": 16,
   "id": "bee3637f",
   "metadata": {},
   "outputs": [
    {
     "data": {
      "text/html": [
       "<div>\n",
       "<style scoped>\n",
       "    .dataframe tbody tr th:only-of-type {\n",
       "        vertical-align: middle;\n",
       "    }\n",
       "\n",
       "    .dataframe tbody tr th {\n",
       "        vertical-align: top;\n",
       "    }\n",
       "\n",
       "    .dataframe thead th {\n",
       "        text-align: right;\n",
       "    }\n",
       "</style>\n",
       "<table border=\"1\" class=\"dataframe\">\n",
       "  <thead>\n",
       "    <tr style=\"text-align: right;\">\n",
       "      <th></th>\n",
       "      <th>user_id</th>\n",
       "      <th>surname</th>\n",
       "      <th>gender</th>\n",
       "      <th>state</th>\n",
       "      <th>age</th>\n",
       "      <th>date_joined</th>\n",
       "      <th>dependants</th>\n",
       "      <th>marital_status</th>\n",
       "      <th>income</th>\n",
       "    </tr>\n",
       "  </thead>\n",
       "  <tbody>\n",
       "  </tbody>\n",
       "</table>\n",
       "</div>"
      ],
      "text/plain": [
       "Empty DataFrame\n",
       "Columns: [user_id, surname, gender, state, age, date_joined, dependants, marital_status, income]\n",
       "Index: []"
      ]
     },
     "execution_count": 16,
     "metadata": {},
     "output_type": "execute_result"
    }
   ],
   "source": [
    "df_dups"
   ]
  },
  {
   "cell_type": "markdown",
   "id": "8908161e",
   "metadata": {},
   "source": [
    "There are no duplicates in this dataframe"
   ]
  },
  {
   "cell_type": "markdown",
   "id": "4c8c69b7",
   "metadata": {},
   "source": [
    "#### Check mixed-type data"
   ]
  },
  {
   "cell_type": "code",
   "execution_count": 17,
   "id": "6c9c4200",
   "metadata": {},
   "outputs": [],
   "source": [
    "for col in df_customer.columns.tolist():\n",
    "  weird = (df_customer[[col]].applymap(type) != df_customer[[col]].iloc[0].apply(type)).any(axis = 1)\n",
    "  if len (df_customer[weird]) > 0:\n",
    "    print (col)"
   ]
  },
  {
   "cell_type": "markdown",
   "id": "7215fb95",
   "metadata": {},
   "source": [
    "There is no mixed-type in this dataframe"
   ]
  },
  {
   "cell_type": "markdown",
   "id": "0e97e1d9",
   "metadata": {},
   "source": [
    "### Q6: Combine your customer data with the rest of your prepared Instacart data. Tip: Make sure the key columns are of the same data type! Hint: Make sure the key columns are the same data type!"
   ]
  },
  {
   "cell_type": "markdown",
   "id": "5a9cc6b3",
   "metadata": {},
   "source": [
    "#### Import prepared dataset from task 4.8"
   ]
  },
  {
   "cell_type": "code",
   "execution_count": 18,
   "id": "f42f1e70",
   "metadata": {},
   "outputs": [],
   "source": [
    "ords_prods = pd.read_pickle(r'C:\\Users\\Owner\\Desktop\\Data Analyst\\01-31-2022 Instacart Basket Analysis\\02 Data\\Prepared Data\\ords_prods_merge.pkl')"
   ]
  },
  {
   "cell_type": "markdown",
   "id": "a3ded1dc",
   "metadata": {},
   "source": [
    "#### Check and fix data type"
   ]
  },
  {
   "cell_type": "code",
   "execution_count": 19,
   "id": "e3963f47",
   "metadata": {},
   "outputs": [
    {
     "name": "stdout",
     "output_type": "stream",
     "text": [
      "<class 'pandas.core.frame.DataFrame'>\n",
      "Int64Index: 32404859 entries, 0 to 32404858\n",
      "Data columns (total 23 columns):\n",
      " #   Column                  Dtype  \n",
      "---  ------                  -----  \n",
      " 0   order_id                int32  \n",
      " 1   user_id                 int32  \n",
      " 2   order_number            int32  \n",
      " 3   orders_day_of_week      int32  \n",
      " 4   orders_time_of_day      int32  \n",
      " 5   days_since_prior_order  float32\n",
      " 6   df_ords_first_order     bool   \n",
      " 7   product_id              int32  \n",
      " 8   add_to_cart_order       int32  \n",
      " 9   reordered               int32  \n",
      " 10  product_name            object \n",
      " 11  aisle_id                int32  \n",
      " 12  department_id           int32  \n",
      " 13  prices                  float32\n",
      " 14  price_range_loc         object \n",
      " 15  busiest_days            object \n",
      " 16  busiest_period_of_day   object \n",
      " 17  max_order               int32  \n",
      " 18  loyalty_flag            object \n",
      " 19  spending                float32\n",
      " 20  spending_flag           object \n",
      " 21  order_frequency         float32\n",
      " 22  frequency_flag          object \n",
      "dtypes: bool(1), float32(4), int32(11), object(7)\n",
      "memory usage: 3.8+ GB\n"
     ]
    }
   ],
   "source": [
    "ords_prods.info()"
   ]
  },
  {
   "cell_type": "code",
   "execution_count": 20,
   "id": "ea9404d5",
   "metadata": {},
   "outputs": [
    {
     "name": "stdout",
     "output_type": "stream",
     "text": [
      "<class 'pandas.core.frame.DataFrame'>\n",
      "RangeIndex: 206209 entries, 0 to 206208\n",
      "Data columns (total 9 columns):\n",
      " #   Column          Non-Null Count   Dtype \n",
      "---  ------          --------------   ----- \n",
      " 0   user_id         206209 non-null  int32 \n",
      " 1   surname         206209 non-null  object\n",
      " 2   gender          206209 non-null  object\n",
      " 3   state           206209 non-null  object\n",
      " 4   age             206209 non-null  int32 \n",
      " 5   date_joined     206209 non-null  object\n",
      " 6   dependants      206209 non-null  int32 \n",
      " 7   marital_status  206209 non-null  object\n",
      " 8   income          206209 non-null  int32 \n",
      "dtypes: int32(4), object(5)\n",
      "memory usage: 11.0+ MB\n"
     ]
    }
   ],
   "source": [
    "df_customer.info()"
   ]
  },
  {
   "cell_type": "code",
   "execution_count": 20,
   "id": "d003e605",
   "metadata": {},
   "outputs": [],
   "source": [
    "# Change object into category for 'ords_prods' dataset\n",
    "\n",
    "ords_prods['product_name'] = ords_prods['product_name'].astype('category')"
   ]
  },
  {
   "cell_type": "code",
   "execution_count": 21,
   "id": "96d192e6",
   "metadata": {},
   "outputs": [],
   "source": [
    "ords_prods[['busiest_days', 'busiest_period_of_day', 'price_range_loc']] = ords_prods[['busiest_days', 'busiest_period_of_day', 'price_range_loc']].astype('category')"
   ]
  },
  {
   "cell_type": "code",
   "execution_count": 28,
   "id": "f8c01504",
   "metadata": {},
   "outputs": [],
   "source": [
    "ords_prods[['loyalty_flag', 'spending_flag', 'frequency_flag']] = ords_prods[['loyalty_flag', 'spending_flag', 'frequency_flag']].astype('category')"
   ]
  },
  {
   "cell_type": "code",
   "execution_count": 29,
   "id": "93e33f21",
   "metadata": {},
   "outputs": [
    {
     "name": "stdout",
     "output_type": "stream",
     "text": [
      "<class 'pandas.core.frame.DataFrame'>\n",
      "Int64Index: 32404859 entries, 0 to 32404858\n",
      "Data columns (total 23 columns):\n",
      " #   Column                  Dtype   \n",
      "---  ------                  -----   \n",
      " 0   order_id                int32   \n",
      " 1   user_id                 int32   \n",
      " 2   order_number            int32   \n",
      " 3   orders_day_of_week      int32   \n",
      " 4   orders_time_of_day      int32   \n",
      " 5   days_since_prior_order  float32 \n",
      " 6   df_ords_first_order     bool    \n",
      " 7   product_id              int32   \n",
      " 8   add_to_cart_order       int32   \n",
      " 9   reordered               int32   \n",
      " 10  product_name            category\n",
      " 11  aisle_id                int32   \n",
      " 12  department_id           int32   \n",
      " 13  prices                  float32 \n",
      " 14  price_range_loc         category\n",
      " 15  busiest_days            category\n",
      " 16  busiest_period_of_day   category\n",
      " 17  max_order               int32   \n",
      " 18  loyalty_flag            category\n",
      " 19  spending                float32 \n",
      " 20  spending_flag           category\n",
      " 21  order_frequency         float32 \n",
      " 22  frequency_flag          category\n",
      "dtypes: bool(1), category(7), float32(4), int32(11)\n",
      "memory usage: 2.4 GB\n"
     ]
    }
   ],
   "source": [
    "ords_prods.info()"
   ]
  },
  {
   "cell_type": "code",
   "execution_count": 30,
   "id": "e69dc3d0",
   "metadata": {},
   "outputs": [],
   "source": [
    "df_merge = ords_prods.merge(df_customer, on = 'user_id', indicator = True)"
   ]
  },
  {
   "cell_type": "code",
   "execution_count": 31,
   "id": "f68500ca",
   "metadata": {},
   "outputs": [
    {
     "data": {
      "text/html": [
       "<div>\n",
       "<style scoped>\n",
       "    .dataframe tbody tr th:only-of-type {\n",
       "        vertical-align: middle;\n",
       "    }\n",
       "\n",
       "    .dataframe tbody tr th {\n",
       "        vertical-align: top;\n",
       "    }\n",
       "\n",
       "    .dataframe thead th {\n",
       "        text-align: right;\n",
       "    }\n",
       "</style>\n",
       "<table border=\"1\" class=\"dataframe\">\n",
       "  <thead>\n",
       "    <tr style=\"text-align: right;\">\n",
       "      <th></th>\n",
       "      <th>order_id</th>\n",
       "      <th>user_id</th>\n",
       "      <th>order_number</th>\n",
       "      <th>orders_day_of_week</th>\n",
       "      <th>orders_time_of_day</th>\n",
       "      <th>days_since_prior_order</th>\n",
       "      <th>df_ords_first_order</th>\n",
       "      <th>product_id</th>\n",
       "      <th>add_to_cart_order</th>\n",
       "      <th>reordered</th>\n",
       "      <th>...</th>\n",
       "      <th>frequency_flag</th>\n",
       "      <th>surname</th>\n",
       "      <th>gender</th>\n",
       "      <th>state</th>\n",
       "      <th>age</th>\n",
       "      <th>date_joined</th>\n",
       "      <th>dependants</th>\n",
       "      <th>marital_status</th>\n",
       "      <th>income</th>\n",
       "      <th>_merge</th>\n",
       "    </tr>\n",
       "  </thead>\n",
       "  <tbody>\n",
       "    <tr>\n",
       "      <th>0</th>\n",
       "      <td>2539329</td>\n",
       "      <td>1</td>\n",
       "      <td>1</td>\n",
       "      <td>2</td>\n",
       "      <td>8</td>\n",
       "      <td>NaN</td>\n",
       "      <td>True</td>\n",
       "      <td>196</td>\n",
       "      <td>1</td>\n",
       "      <td>0</td>\n",
       "      <td>...</td>\n",
       "      <td>Non-frequent customer</td>\n",
       "      <td>Nguyen</td>\n",
       "      <td>Female</td>\n",
       "      <td>Alabama</td>\n",
       "      <td>31</td>\n",
       "      <td>2/17/2019</td>\n",
       "      <td>3</td>\n",
       "      <td>married</td>\n",
       "      <td>40423</td>\n",
       "      <td>both</td>\n",
       "    </tr>\n",
       "    <tr>\n",
       "      <th>1</th>\n",
       "      <td>2398795</td>\n",
       "      <td>1</td>\n",
       "      <td>2</td>\n",
       "      <td>3</td>\n",
       "      <td>7</td>\n",
       "      <td>15.0</td>\n",
       "      <td>False</td>\n",
       "      <td>196</td>\n",
       "      <td>1</td>\n",
       "      <td>1</td>\n",
       "      <td>...</td>\n",
       "      <td>Non-frequent customer</td>\n",
       "      <td>Nguyen</td>\n",
       "      <td>Female</td>\n",
       "      <td>Alabama</td>\n",
       "      <td>31</td>\n",
       "      <td>2/17/2019</td>\n",
       "      <td>3</td>\n",
       "      <td>married</td>\n",
       "      <td>40423</td>\n",
       "      <td>both</td>\n",
       "    </tr>\n",
       "    <tr>\n",
       "      <th>2</th>\n",
       "      <td>473747</td>\n",
       "      <td>1</td>\n",
       "      <td>3</td>\n",
       "      <td>3</td>\n",
       "      <td>12</td>\n",
       "      <td>21.0</td>\n",
       "      <td>False</td>\n",
       "      <td>196</td>\n",
       "      <td>1</td>\n",
       "      <td>1</td>\n",
       "      <td>...</td>\n",
       "      <td>Non-frequent customer</td>\n",
       "      <td>Nguyen</td>\n",
       "      <td>Female</td>\n",
       "      <td>Alabama</td>\n",
       "      <td>31</td>\n",
       "      <td>2/17/2019</td>\n",
       "      <td>3</td>\n",
       "      <td>married</td>\n",
       "      <td>40423</td>\n",
       "      <td>both</td>\n",
       "    </tr>\n",
       "    <tr>\n",
       "      <th>3</th>\n",
       "      <td>2254736</td>\n",
       "      <td>1</td>\n",
       "      <td>4</td>\n",
       "      <td>4</td>\n",
       "      <td>7</td>\n",
       "      <td>29.0</td>\n",
       "      <td>False</td>\n",
       "      <td>196</td>\n",
       "      <td>1</td>\n",
       "      <td>1</td>\n",
       "      <td>...</td>\n",
       "      <td>Non-frequent customer</td>\n",
       "      <td>Nguyen</td>\n",
       "      <td>Female</td>\n",
       "      <td>Alabama</td>\n",
       "      <td>31</td>\n",
       "      <td>2/17/2019</td>\n",
       "      <td>3</td>\n",
       "      <td>married</td>\n",
       "      <td>40423</td>\n",
       "      <td>both</td>\n",
       "    </tr>\n",
       "    <tr>\n",
       "      <th>4</th>\n",
       "      <td>431534</td>\n",
       "      <td>1</td>\n",
       "      <td>5</td>\n",
       "      <td>4</td>\n",
       "      <td>15</td>\n",
       "      <td>28.0</td>\n",
       "      <td>False</td>\n",
       "      <td>196</td>\n",
       "      <td>1</td>\n",
       "      <td>1</td>\n",
       "      <td>...</td>\n",
       "      <td>Non-frequent customer</td>\n",
       "      <td>Nguyen</td>\n",
       "      <td>Female</td>\n",
       "      <td>Alabama</td>\n",
       "      <td>31</td>\n",
       "      <td>2/17/2019</td>\n",
       "      <td>3</td>\n",
       "      <td>married</td>\n",
       "      <td>40423</td>\n",
       "      <td>both</td>\n",
       "    </tr>\n",
       "  </tbody>\n",
       "</table>\n",
       "<p>5 rows × 32 columns</p>\n",
       "</div>"
      ],
      "text/plain": [
       "   order_id  user_id  order_number  orders_day_of_week  orders_time_of_day  \\\n",
       "0   2539329        1             1                   2                   8   \n",
       "1   2398795        1             2                   3                   7   \n",
       "2    473747        1             3                   3                  12   \n",
       "3   2254736        1             4                   4                   7   \n",
       "4    431534        1             5                   4                  15   \n",
       "\n",
       "   days_since_prior_order  df_ords_first_order  product_id  add_to_cart_order  \\\n",
       "0                     NaN                 True         196                  1   \n",
       "1                    15.0                False         196                  1   \n",
       "2                    21.0                False         196                  1   \n",
       "3                    29.0                False         196                  1   \n",
       "4                    28.0                False         196                  1   \n",
       "\n",
       "   reordered  ...         frequency_flag  surname  gender    state age  \\\n",
       "0          0  ...  Non-frequent customer   Nguyen  Female  Alabama  31   \n",
       "1          1  ...  Non-frequent customer   Nguyen  Female  Alabama  31   \n",
       "2          1  ...  Non-frequent customer   Nguyen  Female  Alabama  31   \n",
       "3          1  ...  Non-frequent customer   Nguyen  Female  Alabama  31   \n",
       "4          1  ...  Non-frequent customer   Nguyen  Female  Alabama  31   \n",
       "\n",
       "  date_joined dependants  marital_status income  _merge  \n",
       "0   2/17/2019          3         married  40423    both  \n",
       "1   2/17/2019          3         married  40423    both  \n",
       "2   2/17/2019          3         married  40423    both  \n",
       "3   2/17/2019          3         married  40423    both  \n",
       "4   2/17/2019          3         married  40423    both  \n",
       "\n",
       "[5 rows x 32 columns]"
      ]
     },
     "execution_count": 31,
     "metadata": {},
     "output_type": "execute_result"
    }
   ],
   "source": [
    "df_merge.head()"
   ]
  },
  {
   "cell_type": "code",
   "execution_count": 32,
   "id": "83072eb6",
   "metadata": {},
   "outputs": [
    {
     "data": {
      "text/plain": [
       "both          32404859\n",
       "left_only            0\n",
       "right_only           0\n",
       "Name: _merge, dtype: int64"
      ]
     },
     "execution_count": 32,
     "metadata": {},
     "output_type": "execute_result"
    }
   ],
   "source": [
    "df_merge['_merge'].value_counts(dropna = False)"
   ]
  },
  {
   "cell_type": "markdown",
   "id": "2c0b64a9",
   "metadata": {},
   "source": [
    "### Q8: Export this new dataframe as a pickle file so you can continue to use it in the second part of this task."
   ]
  },
  {
   "cell_type": "code",
   "execution_count": 33,
   "id": "c3d5a179",
   "metadata": {},
   "outputs": [],
   "source": [
    "df_merge.to_pickle(os.path.join(path, '02 Data', 'Prepared Data', 'ords_prods_customer.pkl'))"
   ]
  },
  {
   "cell_type": "code",
   "execution_count": null,
   "id": "aa67c28e",
   "metadata": {},
   "outputs": [],
   "source": []
  }
 ],
 "metadata": {
  "kernelspec": {
   "display_name": "Python 3 (ipykernel)",
   "language": "python",
   "name": "python3"
  },
  "language_info": {
   "codemirror_mode": {
    "name": "ipython",
    "version": 3
   },
   "file_extension": ".py",
   "mimetype": "text/x-python",
   "name": "python",
   "nbconvert_exporter": "python",
   "pygments_lexer": "ipython3",
   "version": "3.9.7"
  }
 },
 "nbformat": 4,
 "nbformat_minor": 5
}
