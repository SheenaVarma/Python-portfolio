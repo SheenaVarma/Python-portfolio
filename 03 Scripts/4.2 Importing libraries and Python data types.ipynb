{
 "cells": [
  {
   "cell_type": "markdown",
   "id": "a42378f2",
   "metadata": {},
   "source": [
    "# 01. Importing libraries"
   ]
  },
  {
   "cell_type": "code",
   "execution_count": 2,
   "id": "b093915e",
   "metadata": {},
   "outputs": [],
   "source": [
    "# Import libraries\n",
    "import pandas as pd\n",
    "import numpy as np\n",
    "import os"
   ]
  },
  {
   "cell_type": "markdown",
   "id": "1add01cd",
   "metadata": {},
   "source": [
    "# 02. Data types"
   ]
  },
  {
   "cell_type": "code",
   "execution_count": 3,
   "id": "ddbd1d7b",
   "metadata": {},
   "outputs": [],
   "source": [
    "a = 50"
   ]
  },
  {
   "cell_type": "code",
   "execution_count": 4,
   "id": "7be319cd",
   "metadata": {},
   "outputs": [],
   "source": [
    "b = 50"
   ]
  },
  {
   "cell_type": "code",
   "execution_count": 5,
   "id": "674629bd",
   "metadata": {},
   "outputs": [],
   "source": [
    "c = 20"
   ]
  },
  {
   "cell_type": "code",
   "execution_count": 6,
   "id": "5c234f93",
   "metadata": {},
   "outputs": [],
   "source": [
    "d = 40"
   ]
  },
  {
   "cell_type": "code",
   "execution_count": 7,
   "id": "b643f6c5",
   "metadata": {},
   "outputs": [],
   "source": [
    "e = 120"
   ]
  },
  {
   "cell_type": "code",
   "execution_count": 8,
   "id": "f5976cc7",
   "metadata": {},
   "outputs": [],
   "source": [
    "f = 60"
   ]
  },
  {
   "cell_type": "code",
   "execution_count": 9,
   "id": "863b2be7",
   "metadata": {},
   "outputs": [
    {
     "data": {
      "text/plain": [
       "100"
      ]
     },
     "execution_count": 9,
     "metadata": {},
     "output_type": "execute_result"
    }
   ],
   "source": [
    "a + b"
   ]
  },
  {
   "cell_type": "code",
   "execution_count": 10,
   "id": "170f31d7",
   "metadata": {},
   "outputs": [
    {
     "data": {
      "text/plain": [
       "100"
      ]
     },
     "execution_count": 10,
     "metadata": {},
     "output_type": "execute_result"
    }
   ],
   "source": [
    "f + d"
   ]
  },
  {
   "cell_type": "code",
   "execution_count": 11,
   "id": "79410788",
   "metadata": {},
   "outputs": [
    {
     "data": {
      "text/plain": [
       "100"
      ]
     },
     "execution_count": 11,
     "metadata": {},
     "output_type": "execute_result"
    }
   ],
   "source": [
    "e - c"
   ]
  },
  {
   "cell_type": "code",
   "execution_count": 12,
   "id": "8f4a8a1d",
   "metadata": {},
   "outputs": [],
   "source": [
    "x = 120.50"
   ]
  },
  {
   "cell_type": "code",
   "execution_count": 13,
   "id": "28cf2181",
   "metadata": {},
   "outputs": [],
   "source": [
    "y = 60.50"
   ]
  },
  {
   "cell_type": "code",
   "execution_count": 14,
   "id": "6f84bb73",
   "metadata": {},
   "outputs": [
    {
     "data": {
      "text/plain": [
       "1.9917355371900827"
      ]
     },
     "execution_count": 14,
     "metadata": {},
     "output_type": "execute_result"
    }
   ],
   "source": [
    "x / y"
   ]
  },
  {
   "cell_type": "code",
   "execution_count": 15,
   "id": "523cd936",
   "metadata": {},
   "outputs": [],
   "source": [
    "g = 'note'"
   ]
  },
  {
   "cell_type": "code",
   "execution_count": 16,
   "id": "a42fef36",
   "metadata": {},
   "outputs": [],
   "source": [
    "h = 'book'"
   ]
  },
  {
   "cell_type": "code",
   "execution_count": 17,
   "id": "5c4dedcb",
   "metadata": {},
   "outputs": [
    {
     "data": {
      "text/plain": [
       "'notebook'"
      ]
     },
     "execution_count": 17,
     "metadata": {},
     "output_type": "execute_result"
    }
   ],
   "source": [
    "g + h"
   ]
  },
  {
   "cell_type": "code",
   "execution_count": 18,
   "id": "7c8b0da4",
   "metadata": {},
   "outputs": [],
   "source": [
    "i = 'beautiful '"
   ]
  },
  {
   "cell_type": "code",
   "execution_count": 19,
   "id": "f87bd396",
   "metadata": {},
   "outputs": [],
   "source": [
    "j = 'day'"
   ]
  },
  {
   "cell_type": "code",
   "execution_count": 20,
   "id": "859ce8ee",
   "metadata": {},
   "outputs": [
    {
     "data": {
      "text/plain": [
       "'beautiful day'"
      ]
     },
     "execution_count": 20,
     "metadata": {},
     "output_type": "execute_result"
    }
   ],
   "source": [
    "i + j"
   ]
  },
  {
   "cell_type": "code",
   "execution_count": 21,
   "id": "4d9c5302",
   "metadata": {},
   "outputs": [],
   "source": [
    "k = 'Today is a '"
   ]
  },
  {
   "cell_type": "code",
   "execution_count": 22,
   "id": "f1d7df1a",
   "metadata": {},
   "outputs": [
    {
     "data": {
      "text/plain": [
       "'Today is a beautiful day'"
      ]
     },
     "execution_count": 22,
     "metadata": {},
     "output_type": "execute_result"
    }
   ],
   "source": [
    "k + i + j"
   ]
  },
  {
   "cell_type": "code",
   "execution_count": 23,
   "id": "777a56c7",
   "metadata": {},
   "outputs": [],
   "source": [
    "l = ' I wrote in my '"
   ]
  },
  {
   "cell_type": "code",
   "execution_count": 24,
   "id": "6a2b1e0f",
   "metadata": {},
   "outputs": [
    {
     "data": {
      "text/plain": [
       "' I wrote in my notebook'"
      ]
     },
     "execution_count": 24,
     "metadata": {},
     "output_type": "execute_result"
    }
   ],
   "source": [
    "l + g + h"
   ]
  },
  {
   "cell_type": "code",
   "execution_count": null,
   "id": "32ed2f58",
   "metadata": {},
   "outputs": [],
   "source": []
  }
 ],
 "metadata": {
  "kernelspec": {
   "display_name": "Python 3 (ipykernel)",
   "language": "python",
   "name": "python3"
  },
  "language_info": {
   "codemirror_mode": {
    "name": "ipython",
    "version": 3
   },
   "file_extension": ".py",
   "mimetype": "text/x-python",
   "name": "python",
   "nbconvert_exporter": "python",
   "pygments_lexer": "ipython3",
   "version": "3.9.7"
  }
 },
 "nbformat": 4,
 "nbformat_minor": 5
}
